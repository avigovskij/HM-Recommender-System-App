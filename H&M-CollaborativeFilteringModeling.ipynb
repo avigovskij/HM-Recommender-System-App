{
 "cells": [
  {
   "attachments": {},
   "cell_type": "markdown",
   "metadata": {},
   "source": []
  },
  {
   "cell_type": "markdown",
   "metadata": {},
   "source": [
    "# Модуль загрузки данных"
   ]
  },
  {
   "cell_type": "code",
   "execution_count": 57,
   "metadata": {
    "ExecuteTime": {
     "end_time": "2024-10-13T17:17:31.818496Z",
     "start_time": "2024-10-13T17:17:31.807625Z"
    }
   },
   "outputs": [],
   "source": [
    "import pandas as pd\n",
    "import pickle\n",
    "import matplotlib.pyplot as plt\n",
    "\n",
    "from surprise import Dataset, Reader, accuracy\n",
    "from surprise.model_selection import cross_validate, GridSearchCV, train_test_split\n",
    "from surprise.prediction_algorithms import SVD, SVDpp, NMF, BaselineOnly, NormalPredictor, KNNBasic\n",
    "\n",
    "# from sklearn.model_selection import train_test_split\n",
    "\n",
    "plt.style.use('fast')\n",
    "%matplotlib inline"
   ]
  },
  {
   "cell_type": "code",
   "execution_count": 58,
   "metadata": {
    "ExecuteTime": {
     "end_time": "2024-10-13T17:17:32.321641Z",
     "start_time": "2024-10-13T17:17:32.319588Z"
    }
   },
   "outputs": [],
   "source": [
    "pd.set_option('display.max_columns', 50)"
   ]
  },
  {
   "cell_type": "markdown",
   "metadata": {},
   "source": [
    "читаем данные `out` из `FinalDataPreparation`"
   ]
  },
  {
   "cell_type": "code",
   "execution_count": 59,
   "metadata": {
    "ExecuteTime": {
     "end_time": "2024-10-13T17:17:33.599759Z",
     "start_time": "2024-10-13T17:17:32.866183Z"
    }
   },
   "outputs": [
    {
     "data": {
      "text/html": [
       "<div>\n",
       "<style scoped>\n",
       "    .dataframe tbody tr th:only-of-type {\n",
       "        vertical-align: middle;\n",
       "    }\n",
       "\n",
       "    .dataframe tbody tr th {\n",
       "        vertical-align: top;\n",
       "    }\n",
       "\n",
       "    .dataframe thead th {\n",
       "        text-align: right;\n",
       "    }\n",
       "</style>\n",
       "<table border=\"1\" class=\"dataframe\">\n",
       "  <thead>\n",
       "    <tr style=\"text-align: right;\">\n",
       "      <th></th>\n",
       "      <th>InvoiceDate</th>\n",
       "      <th>customer_id</th>\n",
       "      <th>article_id</th>\n",
       "      <th>price</th>\n",
       "      <th>sales_channel_id</th>\n",
       "      <th>t_dat</th>\n",
       "      <th>date</th>\n",
       "      <th>bought</th>\n",
       "    </tr>\n",
       "  </thead>\n",
       "  <tbody>\n",
       "    <tr>\n",
       "      <th>0</th>\n",
       "      <td>2020-09-14</td>\n",
       "      <td>0008968c0d451dbc5a9968da03196fe20051965edde741...</td>\n",
       "      <td>893059004</td>\n",
       "      <td>0.035576</td>\n",
       "      <td>2</td>\n",
       "      <td>2020-09-14</td>\n",
       "      <td>2020-09-14</td>\n",
       "      <td>1</td>\n",
       "    </tr>\n",
       "    <tr>\n",
       "      <th>1</th>\n",
       "      <td>2020-09-03</td>\n",
       "      <td>002611889659ab1051fc3e4e870f2b603c3aaa902ffe6a...</td>\n",
       "      <td>902802002</td>\n",
       "      <td>0.033881</td>\n",
       "      <td>2</td>\n",
       "      <td>2020-09-03</td>\n",
       "      <td>2020-09-03</td>\n",
       "      <td>1</td>\n",
       "    </tr>\n",
       "    <tr>\n",
       "      <th>2</th>\n",
       "      <td>2020-09-03</td>\n",
       "      <td>002611889659ab1051fc3e4e870f2b603c3aaa902ffe6a...</td>\n",
       "      <td>805000007</td>\n",
       "      <td>0.050831</td>\n",
       "      <td>2</td>\n",
       "      <td>2020-09-03</td>\n",
       "      <td>2020-09-03</td>\n",
       "      <td>1</td>\n",
       "    </tr>\n",
       "  </tbody>\n",
       "</table>\n",
       "</div>"
      ],
      "text/plain": [
       "  InvoiceDate                                        customer_id  article_id  \\\n",
       "0  2020-09-14  0008968c0d451dbc5a9968da03196fe20051965edde741...   893059004   \n",
       "1  2020-09-03  002611889659ab1051fc3e4e870f2b603c3aaa902ffe6a...   902802002   \n",
       "2  2020-09-03  002611889659ab1051fc3e4e870f2b603c3aaa902ffe6a...   805000007   \n",
       "\n",
       "      price  sales_channel_id       t_dat        date  bought  \n",
       "0  0.035576                 2  2020-09-14  2020-09-14       1  \n",
       "1  0.033881                 2  2020-09-03  2020-09-03       1  \n",
       "2  0.050831                 2  2020-09-03  2020-09-03       1  "
      ]
     },
     "execution_count": 59,
     "metadata": {},
     "output_type": "execute_result"
    }
   ],
   "source": [
    "transactions = pd.read_csv('Data/out.zip')\n",
    "transactions.head(3)"
   ]
  },
  {
   "cell_type": "code",
   "execution_count": 60,
   "metadata": {
    "ExecuteTime": {
     "end_time": "2024-10-13T17:17:33.603258Z",
     "start_time": "2024-10-13T17:17:33.600914Z"
    }
   },
   "outputs": [
    {
     "data": {
      "text/plain": [
       "(671674, 8)"
      ]
     },
     "execution_count": 60,
     "metadata": {},
     "output_type": "execute_result"
    }
   ],
   "source": [
    "transactions.shape"
   ]
  },
  {
   "cell_type": "code",
   "execution_count": 61,
   "metadata": {
    "ExecuteTime": {
     "end_time": "2024-10-13T17:17:33.606800Z",
     "start_time": "2024-10-13T17:17:33.603868Z"
    }
   },
   "outputs": [
    {
     "data": {
      "text/plain": [
       "'002611889659ab1051fc3e4e870f2b603c3aaa902ffe6ab59e83461c76c879dc'"
      ]
     },
     "execution_count": 61,
     "metadata": {},
     "output_type": "execute_result"
    }
   ],
   "source": [
    "transactions.customer_id[1]"
   ]
  },
  {
   "cell_type": "code",
   "execution_count": 62,
   "metadata": {
    "ExecuteTime": {
     "end_time": "2024-10-13T17:17:33.611231Z",
     "start_time": "2024-10-13T17:17:33.607888Z"
    }
   },
   "outputs": [
    {
     "data": {
      "text/plain": [
       "'002611889659ab1051fc3e4e870f2b603c3aaa902ffe6ab59e83461c76c879dc'"
      ]
     },
     "execution_count": 62,
     "metadata": {},
     "output_type": "execute_result"
    }
   ],
   "source": [
    "transactions.customer_id[1]"
   ]
  },
  {
   "cell_type": "markdown",
   "metadata": {},
   "source": [
    "описание данных:\n",
    "\n",
    "- t_dat : дата покупки\n",
    "- customer_id : id клиента\n",
    "- article_id : id товара в articles таблице\n",
    "- price : Стоимость покупки\n",
    "- sales_channel_id : 1 or 2"
   ]
  },
  {
   "cell_type": "markdown",
   "metadata": {},
   "source": [
    "### Обработка данных "
   ]
  },
  {
   "cell_type": "code",
   "execution_count": 63,
   "metadata": {
    "ExecuteTime": {
     "end_time": "2024-10-13T17:17:34.230825Z",
     "start_time": "2024-10-13T17:17:33.936448Z"
    }
   },
   "outputs": [],
   "source": [
    "# конвертируем в класс Reader из sct learn и згаружаем данные\n",
    "reader = Reader(rating_scale = (0,1))\n",
    "customer_data = Dataset.load_from_df(transactions[['customer_id', 'article_id', 'bought']], reader)"
   ]
  },
  {
   "cell_type": "code",
   "execution_count": 64,
   "metadata": {
    "ExecuteTime": {
     "end_time": "2024-10-13T17:17:34.234595Z",
     "start_time": "2024-10-13T17:17:34.232179Z"
    }
   },
   "outputs": [
    {
     "data": {
      "text/plain": [
       "surprise.dataset.DatasetAutoFolds"
      ]
     },
     "execution_count": 64,
     "metadata": {},
     "output_type": "execute_result"
    }
   ],
   "source": [
    "type(customer_data)"
   ]
  },
  {
   "cell_type": "code",
   "execution_count": 65,
   "metadata": {
    "ExecuteTime": {
     "end_time": "2024-10-13T17:17:35.246903Z",
     "start_time": "2024-10-13T17:17:34.290543Z"
    }
   },
   "outputs": [],
   "source": [
    "# разбиваем данные для рекомендательной модели\n",
    "trainset, testset = train_test_split(customer_data, test_size=0.2, random_state=42)"
   ]
  },
  {
   "cell_type": "code",
   "execution_count": 66,
   "metadata": {
    "ExecuteTime": {
     "end_time": "2024-10-13T17:17:35.267134Z",
     "start_time": "2024-10-13T17:17:35.264728Z"
    }
   },
   "outputs": [
    {
     "name": "stdout",
     "output_type": "stream",
     "text": [
      "Number of users:  172712 \n",
      "\n",
      "Number of items:  9225 \n",
      "\n"
     ]
    }
   ],
   "source": [
    "# Вывод информации для обучабщего набора\n",
    "print('Number of users: ', trainset.n_users, '\\n')\n",
    "print('Number of items: ', trainset.n_items, '\\n')"
   ]
  },
  {
   "cell_type": "markdown",
   "metadata": {},
   "source": [
    "## Создание модели"
   ]
  },
  {
   "cell_type": "markdown",
   "metadata": {},
   "source": [
    "### Базлайны без крос валидации"
   ]
  },
  {
   "cell_type": "code",
   "execution_count": 67,
   "metadata": {
    "ExecuteTime": {
     "end_time": "2024-10-13T17:17:36.014831Z",
     "start_time": "2024-10-13T17:17:35.268027Z"
    }
   },
   "outputs": [
    {
     "name": "stdout",
     "output_type": "stream",
     "text": [
      "RMSE: 0.0000\n"
     ]
    }
   ],
   "source": [
    "# создание базлайнов\n",
    "baseline = NormalPredictor()\n",
    "baseline.fit(trainset)\n",
    "\n",
    "# тестовые предсказания для fit\n",
    "predictions = baseline.test(testset)\n",
    "\n",
    "# RMSE\n",
    "baseline_normal = accuracy.rmse(predictions)"
   ]
  },
  {
   "cell_type": "code",
   "execution_count": 68,
   "metadata": {
    "ExecuteTime": {
     "end_time": "2024-10-13T17:17:38.709579Z",
     "start_time": "2024-10-13T17:17:36.016547Z"
    }
   },
   "outputs": [
    {
     "name": "stdout",
     "output_type": "stream",
     "text": [
      "Estimating biases using als...\n",
      "RMSE: 0.0000\n"
     ]
    }
   ],
   "source": [
    "# Создание и настройка модели\n",
    "baseline2 = BaselineOnly()\n",
    "baseline2.fit(trainset)\n",
    "\n",
    "predictions = baseline2.test(testset)\n",
    "\n",
    "# RMSE\n",
    "baseline_only = accuracy.rmse(predictions)"
   ]
  },
  {
   "cell_type": "markdown",
   "metadata": {},
   "source": [
    "### SVD модель"
   ]
  },
  {
   "cell_type": "code",
   "execution_count": 69,
   "metadata": {
    "ExecuteTime": {
     "end_time": "2024-10-13T17:17:44.310508Z",
     "start_time": "2024-10-13T17:17:38.710646Z"
    }
   },
   "outputs": [
    {
     "name": "stdout",
     "output_type": "stream",
     "text": [
      "RMSE: 0.0461\n"
     ]
    },
    {
     "data": {
      "text/plain": [
       "0.04613940369951133"
      ]
     },
     "execution_count": 69,
     "metadata": {},
     "output_type": "execute_result"
    }
   ],
   "source": [
    "svd_model = SVD()\n",
    "svd_model.fit(trainset)\n",
    "svd_predictions = svd_model.test(testset)\n",
    "svd_simple_predictions = accuracy.rmse(svd_predictions)\n",
    "svd_simple_predictions"
   ]
  },
  {
   "cell_type": "code",
   "execution_count": 70,
   "metadata": {},
   "outputs": [
    {
     "data": {
      "text/plain": [
       "Prediction(uid='0008968c0d451dbc5a9968da03196fe20051965edde7413775c4eb3be9abe9c2', iid=902802002, r_ui=None, est=1, details={'was_impossible': False})"
      ]
     },
     "execution_count": 70,
     "metadata": {},
     "output_type": "execute_result"
    }
   ],
   "source": [
    "svd_model.predict('0008968c0d451dbc5a9968da03196fe20051965edde7413775c4eb3be9abe9c2', 902802002)"
   ]
  },
  {
   "cell_type": "code",
   "execution_count": 71,
   "metadata": {
    "ExecuteTime": {
     "end_time": "2024-10-13T17:17:44.358650Z",
     "start_time": "2024-10-13T17:17:44.321044Z"
    }
   },
   "outputs": [
    {
     "data": {
      "text/html": [
       "<div>\n",
       "<style scoped>\n",
       "    .dataframe tbody tr th:only-of-type {\n",
       "        vertical-align: middle;\n",
       "    }\n",
       "\n",
       "    .dataframe tbody tr th {\n",
       "        vertical-align: top;\n",
       "    }\n",
       "\n",
       "    .dataframe thead th {\n",
       "        text-align: right;\n",
       "    }\n",
       "</style>\n",
       "<table border=\"1\" class=\"dataframe\">\n",
       "  <thead>\n",
       "    <tr style=\"text-align: right;\">\n",
       "      <th></th>\n",
       "      <th>InvoiceDate</th>\n",
       "      <th>customer_id</th>\n",
       "      <th>article_id</th>\n",
       "      <th>price</th>\n",
       "      <th>sales_channel_id</th>\n",
       "      <th>t_dat</th>\n",
       "      <th>date</th>\n",
       "      <th>bought</th>\n",
       "    </tr>\n",
       "  </thead>\n",
       "  <tbody>\n",
       "  </tbody>\n",
       "</table>\n",
       "</div>"
      ],
      "text/plain": [
       "Empty DataFrame\n",
       "Columns: [InvoiceDate, customer_id, article_id, price, sales_channel_id, t_dat, date, bought]\n",
       "Index: []"
      ]
     },
     "execution_count": 71,
     "metadata": {},
     "output_type": "execute_result"
    }
   ],
   "source": [
    "transactions.loc[(transactions['customer_id'] == '0008968c0d451dbc5a9968da03196fe20051965edde7413775c4eb3be9abe9c2') & \n",
    "                 (transactions['article_id'] == 902802002)]"
   ]
  },
  {
   "cell_type": "code",
   "execution_count": 72,
   "metadata": {
    "ExecuteTime": {
     "end_time": "2024-10-13T17:18:47.713803Z",
     "start_time": "2024-10-13T17:17:44.359997Z"
    },
    "scrolled": true
   },
   "outputs": [
    {
     "name": "stderr",
     "output_type": "stream",
     "text": [
      "[Parallel(n_jobs=-2)]: Using backend LokyBackend with 7 concurrent workers.\n",
      "[Parallel(n_jobs=-2)]: Done   4 tasks      | elapsed:    4.6s\n",
      "[Parallel(n_jobs=-2)]: Done  58 tasks      | elapsed:   39.0s\n",
      "[Parallel(n_jobs=-2)]: Done  80 out of  80 | elapsed:   56.0s finished\n"
     ]
    },
    {
     "data": {
      "text/plain": [
       "{'rmse': {'n_factors': 10, 'n_epochs': 15, 'lr_all': 0.01, 'reg_all': 0.6}}"
      ]
     },
     "execution_count": 72,
     "metadata": {},
     "output_type": "execute_result"
    }
   ],
   "source": [
    "param_grid = {'n_factors':[10,50],'n_epochs': [5, 15], 'lr_all': [0.002,0.01],\n",
    "             'reg_all': [0.2,0.6]}\n",
    "gs_model_SVD1 = GridSearchCV(SVD,param_grid=param_grid,joblib_verbose=5, measures=['RMSE'], n_jobs=-2)\n",
    "gs_model_SVD1.fit(customer_data)\n",
    "\n",
    "gs_model_SVD1.best_params"
   ]
  },
  {
   "cell_type": "markdown",
   "metadata": {
    "ExecuteTime": {
     "start_time": "2022-05-24T23:59:48.096Z"
    }
   },
   "source": []
  },
  {
   "cell_type": "code",
   "execution_count": 73,
   "metadata": {
    "ExecuteTime": {
     "end_time": "2024-10-13T17:19:50.782384Z",
     "start_time": "2024-10-13T17:18:47.717077Z"
    }
   },
   "outputs": [
    {
     "name": "stderr",
     "output_type": "stream",
     "text": [
      "[Parallel(n_jobs=-2)]: Using backend LokyBackend with 7 concurrent workers.\n",
      "[Parallel(n_jobs=-2)]: Done   4 tasks      | elapsed:    4.3s\n",
      "[Parallel(n_jobs=-2)]: Done  58 tasks      | elapsed:   40.9s\n",
      "[Parallel(n_jobs=-2)]: Done  80 out of  80 | elapsed:   57.1s finished\n"
     ]
    },
    {
     "data": {
      "text/plain": [
       "{'rmse': {'n_factors': 5, 'n_epochs': 50, 'lr_all': 0.01, 'reg_all': 0.8}}"
      ]
     },
     "execution_count": 73,
     "metadata": {},
     "output_type": "execute_result"
    }
   ],
   "source": [
    "param_grid2 = {'n_factors':[5,10],'n_epochs': [15, 50], 'lr_all': [0.001, 0.01],\n",
    "             'reg_all': [0.6, 0.8]}\n",
    "gs_model_SVD2 = GridSearchCV(SVD,param_grid=param_grid2,joblib_verbose=5, measures=['RMSE'], n_jobs=-2)\n",
    "gs_model_SVD2.fit(customer_data)\n",
    "\n",
    "gs_model_SVD2.best_params"
   ]
  },
  {
   "cell_type": "markdown",
   "metadata": {
    "ExecuteTime": {
     "start_time": "2022-05-24T23:59:48.100Z"
    }
   },
   "source": []
  },
  {
   "cell_type": "code",
   "execution_count": 74,
   "metadata": {
    "ExecuteTime": {
     "end_time": "2024-10-13T17:20:41.588263Z",
     "start_time": "2024-10-13T17:19:50.783725Z"
    },
    "scrolled": true
   },
   "outputs": [
    {
     "name": "stderr",
     "output_type": "stream",
     "text": [
      "[Parallel(n_jobs=-2)]: Using backend LokyBackend with 7 concurrent workers.\n",
      "[Parallel(n_jobs=-2)]: Done   4 tasks      | elapsed:    7.5s\n",
      "[Parallel(n_jobs=-2)]: Done  36 out of  40 | elapsed:   41.3s remaining:    4.6s\n",
      "[Parallel(n_jobs=-2)]: Done  40 out of  40 | elapsed:   44.5s finished\n"
     ]
    },
    {
     "data": {
      "text/plain": [
       "{'rmse': {'n_factors': 10, 'n_epochs': 100, 'lr_all': 0.2, 'reg_all': 0.8}}"
      ]
     },
     "execution_count": 74,
     "metadata": {},
     "output_type": "execute_result"
    }
   ],
   "source": [
    "param_grid3 = {'n_factors':[10],'n_epochs': [50, 100], 'lr_all': [0.1, 0.2],\n",
    "             'reg_all': [0.8, 0.9]}\n",
    "gs_model_SVD3 = GridSearchCV(SVD,param_grid=param_grid3,joblib_verbose=5, measures=['RMSE'], n_jobs=-2)\n",
    "gs_model_SVD3.fit(customer_data)\n",
    "\n",
    "gs_model_SVD3.best_params"
   ]
  },
  {
   "cell_type": "code",
   "execution_count": 75,
   "metadata": {
    "ExecuteTime": {
     "end_time": "2024-10-13T17:21:37.264714Z",
     "start_time": "2024-10-13T17:20:41.589638Z"
    },
    "scrolled": true
   },
   "outputs": [
    {
     "name": "stderr",
     "output_type": "stream",
     "text": [
      "[Parallel(n_jobs=-2)]: Using backend LokyBackend with 7 concurrent workers.\n",
      "[Parallel(n_jobs=-2)]: Done   4 tasks      | elapsed:    7.9s\n",
      "[Parallel(n_jobs=-2)]: Done  36 out of  40 | elapsed:   47.3s remaining:    5.3s\n",
      "[Parallel(n_jobs=-2)]: Done  40 out of  40 | elapsed:   50.7s finished\n"
     ]
    },
    {
     "data": {
      "text/plain": [
       "{'rmse': {'n_factors': 10, 'n_epochs': 100, 'lr_all': 0.3, 'reg_all': 0.7}}"
      ]
     },
     "execution_count": 75,
     "metadata": {},
     "output_type": "execute_result"
    }
   ],
   "source": [
    "param_grid4 = {'n_factors':[10],'n_epochs': [100, 150], 'lr_all': [0.2, 0.3],\n",
    "             'reg_all': [0.7, 0.8]}\n",
    "gs_model_SVD4 = GridSearchCV(SVD,param_grid=param_grid4,joblib_verbose=5, measures=['RMSE'], n_jobs=-2)\n",
    "gs_model_SVD4.fit(customer_data)\n",
    "\n",
    "gs_model_SVD4.best_params"
   ]
  },
  {
   "cell_type": "markdown",
   "metadata": {},
   "source": [
    "Лучшие параметры для SVD модели - \n",
    "- n_factors : 10\n",
    "- n_epochs : 100\n",
    "- lr_all :0.2\n",
    "- reg_all : 0.8\n",
    "\n",
    "Построим модель и протестируем на тестовых данных"
   ]
  },
  {
   "cell_type": "code",
   "execution_count": 76,
   "metadata": {
    "ExecuteTime": {
     "end_time": "2024-10-13T17:21:43.012127Z",
     "start_time": "2024-10-13T17:21:37.266194Z"
    }
   },
   "outputs": [
    {
     "name": "stdout",
     "output_type": "stream",
     "text": [
      "RMSE: 0.0115\n"
     ]
    },
    {
     "data": {
      "text/plain": [
       "0.011463237187893525"
      ]
     },
     "execution_count": 76,
     "metadata": {},
     "output_type": "execute_result"
    }
   ],
   "source": [
    "svd_model2 = SVD(n_factors= 10, n_epochs= 50)\n",
    "svd_model2.fit(trainset)\n",
    "svd_predictions2 = svd_model2.test(testset)\n",
    "svd_tuned_predictions = accuracy.rmse(svd_predictions2)\n",
    "svd_tuned_predictions"
   ]
  },
  {
   "cell_type": "markdown",
   "metadata": {},
   "source": [
    "### NFM модель"
   ]
  },
  {
   "cell_type": "markdown",
   "metadata": {
    "ExecuteTime": {
     "end_time": "2022-05-24T21:45:37.922853Z",
     "start_time": "2022-05-24T21:45:37.919310Z"
    }
   },
   "source": [
    "разница с предыдущим методом заключается в том, что в NMF для процесса стохастического градиентного спуска регуляризации задается определенный размер шага. Это делается для того, чтобы все факторы пользователя и предмета оставались положительными. Хотя эта модель может быть склонна к чрезмерной подгонке параметров, это можно смягчить с помощью шагов по уменьшению размерности наших данных/факторов."
   ]
  },
  {
   "cell_type": "code",
   "execution_count": 77,
   "metadata": {
    "ExecuteTime": {
     "end_time": "2024-10-13T17:21:55.370426Z",
     "start_time": "2024-10-13T17:21:43.013117Z"
    }
   },
   "outputs": [
    {
     "name": "stdout",
     "output_type": "stream",
     "text": [
      "RMSE: 0.0677\n"
     ]
    },
    {
     "data": {
      "text/plain": [
       "0.06767327849384087"
      ]
     },
     "execution_count": 77,
     "metadata": {},
     "output_type": "execute_result"
    }
   ],
   "source": [
    "nmf_model = NMF()\n",
    "nmf_model.fit(trainset)\n",
    "nmf_predictions = nmf_model.test(testset)\n",
    "nmf_simple_predictions = accuracy.rmse(nmf_predictions)\n",
    "nmf_simple_predictions"
   ]
  },
  {
   "cell_type": "code",
   "execution_count": 78,
   "metadata": {
    "ExecuteTime": {
     "end_time": "2024-10-13T17:23:25.050263Z",
     "start_time": "2024-10-13T17:21:55.371580Z"
    }
   },
   "outputs": [
    {
     "name": "stderr",
     "output_type": "stream",
     "text": [
      "[Parallel(n_jobs=-2)]: Using backend LokyBackend with 7 concurrent workers.\n",
      "[Parallel(n_jobs=-2)]: Done   4 tasks      | elapsed:    7.6s\n",
      "[Parallel(n_jobs=-2)]: Done  42 out of  45 | elapsed:  1.3min remaining:    5.6s\n",
      "[Parallel(n_jobs=-2)]: Done  45 out of  45 | elapsed:  1.4min finished\n"
     ]
    },
    {
     "data": {
      "text/plain": [
       "{'rmse': {'n_factors': 10, 'n_epochs': 75}}"
      ]
     },
     "execution_count": 78,
     "metadata": {},
     "output_type": "execute_result"
    }
   ],
   "source": [
    "param_grid = {'n_factors':[10,15,20],'n_epochs': [25, 50, 75]}\n",
    "gs_model_NFM = GridSearchCV(NMF,param_grid=param_grid,joblib_verbose=5, measures=['RMSE'], n_jobs=-2)\n",
    "gs_model_NFM.fit(customer_data)\n",
    "\n",
    "gs_model_NFM.best_params"
   ]
  },
  {
   "cell_type": "markdown",
   "metadata": {},
   "source": []
  },
  {
   "cell_type": "code",
   "execution_count": 79,
   "metadata": {
    "ExecuteTime": {
     "end_time": "2024-10-13T17:23:59.014710Z",
     "start_time": "2024-10-13T17:23:25.051510Z"
    }
   },
   "outputs": [
    {
     "name": "stderr",
     "output_type": "stream",
     "text": [
      "[Parallel(n_jobs=-2)]: Using backend LokyBackend with 7 concurrent workers.\n",
      "[Parallel(n_jobs=-2)]: Done   3 out of  10 | elapsed:   14.9s remaining:   34.7s\n",
      "[Parallel(n_jobs=-2)]: Done   6 out of  10 | elapsed:   19.6s remaining:   13.0s\n",
      "[Parallel(n_jobs=-2)]: Done  10 out of  10 | elapsed:   28.0s finished\n"
     ]
    },
    {
     "data": {
      "text/plain": [
       "{'rmse': {'n_factors': 10, 'n_epochs': 100}}"
      ]
     },
     "execution_count": 79,
     "metadata": {},
     "output_type": "execute_result"
    }
   ],
   "source": [
    "param_grid = {'n_factors':[10],'n_epochs': [75, 100]}\n",
    "gs_model_NFM2 = GridSearchCV(NMF,param_grid=param_grid,joblib_verbose=5, measures=['RMSE'], n_jobs=-2)\n",
    "gs_model_NFM2.fit(customer_data)\n",
    "\n",
    "gs_model_NFM2.best_params"
   ]
  },
  {
   "cell_type": "markdown",
   "metadata": {
    "ExecuteTime": {
     "start_time": "2022-05-24T23:59:48.140Z"
    }
   },
   "source": []
  },
  {
   "cell_type": "markdown",
   "metadata": {},
   "source": [
    "Лучшие параметры для NMF модели - \n",
    "- n_factors : 10\n",
    "- n_epochs : 100\n",
    "\n",
    "Протестируем лучшие параметры на тестовых данных"
   ]
  },
  {
   "cell_type": "code",
   "execution_count": 80,
   "metadata": {
    "ExecuteTime": {
     "end_time": "2024-10-13T17:24:18.113030Z",
     "start_time": "2024-10-13T17:23:59.015846Z"
    }
   },
   "outputs": [
    {
     "name": "stdout",
     "output_type": "stream",
     "text": [
      "RMSE: 0.0583\n"
     ]
    },
    {
     "data": {
      "text/plain": [
       "0.05825967337192565"
      ]
     },
     "execution_count": 80,
     "metadata": {},
     "output_type": "execute_result"
    }
   ],
   "source": [
    "nmf_model2 = NMF(n_factors = 10, n_epochs = 100)\n",
    "nmf_model2.fit(trainset)\n",
    "nmf_predictions2 = nmf_model2.test(testset)\n",
    "nmf_tuned_predictions = accuracy.rmse(nmf_predictions2)\n",
    "\n",
    "pickle.dump(nmf_model2, open('Model/collaborative_model_NMF.sav', 'wb'))\n",
    "\n",
    "nmf_tuned_predictions"
   ]
  },
  {
   "cell_type": "markdown",
   "metadata": {},
   "source": [
    "## SVD ++ модель"
   ]
  },
  {
   "cell_type": "markdown",
   "metadata": {},
   "source": [
    "Разница модели SVD с SVD++ заключается в том, что SVD++ пытается добавить расширение к базовому SVD, которое использует неявный рейтинг, а также явный. Другими словами, он учитывает действие по оценке предмета как латентный фактор, независимо от значения рейтинга, присвоенного предмету, а также факторизует фактическое значение рейтинга"
   ]
  },
  {
   "cell_type": "code",
   "execution_count": 81,
   "metadata": {
    "ExecuteTime": {
     "end_time": "2024-10-13T17:24:23.354732Z",
     "start_time": "2024-10-13T17:24:18.114194Z"
    }
   },
   "outputs": [
    {
     "name": "stdout",
     "output_type": "stream",
     "text": [
      "RMSE: 0.0208\n"
     ]
    },
    {
     "data": {
      "text/plain": [
       "0.02082139853862302"
      ]
     },
     "execution_count": 81,
     "metadata": {},
     "output_type": "execute_result"
    }
   ],
   "source": [
    "# создание модели\n",
    "SVDpp_model = SVDpp()\n",
    "SVDpp_model.fit(trainset)\n",
    "SVDpp_predictions = SVDpp_model.test(testset)\n",
    "svdpp_simple_predictions = accuracy.rmse(SVDpp_predictions)\n",
    "\n",
    "svdpp_simple_predictions"
   ]
  },
  {
   "cell_type": "code",
   "execution_count": 82,
   "metadata": {
    "ExecuteTime": {
     "end_time": "2024-10-13T17:24:52.232220Z",
     "start_time": "2024-10-13T17:24:23.355707Z"
    },
    "scrolled": true
   },
   "outputs": [
    {
     "name": "stderr",
     "output_type": "stream",
     "text": [
      "[Parallel(n_jobs=-2)]: Using backend LokyBackend with 7 concurrent workers.\n",
      "[Parallel(n_jobs=-2)]: Done   4 tasks      | elapsed:    6.6s\n",
      "[Parallel(n_jobs=-2)]: Done  16 out of  24 | elapsed:   18.3s remaining:    9.2s\n",
      "[Parallel(n_jobs=-2)]: Done  21 out of  24 | elapsed:   22.8s remaining:    3.3s\n",
      "[Parallel(n_jobs=-2)]: Done  24 out of  24 | elapsed:   25.9s finished\n"
     ]
    },
    {
     "data": {
      "text/plain": [
       "{'rmse': {'n_factors': 1, 'n_epochs': 50, 'reg_all': 0.05}}"
      ]
     },
     "execution_count": 82,
     "metadata": {},
     "output_type": "execute_result"
    }
   ],
   "source": [
    "# словарь для SVD++\n",
    "svdpp_param_grid = {'n_factors':[1, 5], 'n_epochs':[25, 50], 'reg_all':[0.02, 0.05]}\n",
    "svdpp_gs_model = GridSearchCV(SVDpp, param_grid=svdpp_param_grid, cv=3, joblib_verbose=5, n_jobs=-2, measures=['RMSE'])\n",
    "\n",
    "# Подбор и возврат наилучших_параметров на основе перекрестной валидации, данный подбор занимает много времени\n",
    "svdpp_gs_model.fit(customer_data)\n",
    "\n",
    "svdpp_gs_model.best_params"
   ]
  },
  {
   "cell_type": "markdown",
   "metadata": {
    "ExecuteTime": {
     "start_time": "2022-05-24T23:59:48.148Z"
    }
   },
   "source": []
  },
  {
   "cell_type": "code",
   "execution_count": 83,
   "metadata": {
    "ExecuteTime": {
     "end_time": "2024-10-13T17:25:14.140150Z",
     "start_time": "2024-10-13T17:24:52.233363Z"
    }
   },
   "outputs": [
    {
     "name": "stderr",
     "output_type": "stream",
     "text": [
      "[Parallel(n_jobs=-2)]: Using backend LokyBackend with 7 concurrent workers.\n",
      "[Parallel(n_jobs=-2)]: Done   2 out of  12 | elapsed:    7.1s remaining:   35.4s\n",
      "[Parallel(n_jobs=-2)]: Done   5 out of  12 | elapsed:    9.2s remaining:   12.8s\n",
      "[Parallel(n_jobs=-2)]: Done   8 out of  12 | elapsed:   16.5s remaining:    8.2s\n",
      "[Parallel(n_jobs=-2)]: Done  12 out of  12 | elapsed:   19.1s finished\n"
     ]
    },
    {
     "data": {
      "text/plain": [
       "{'rmse': {'n_factors': 1, 'n_epochs': 100, 'reg_all': 0.1}}"
      ]
     },
     "execution_count": 83,
     "metadata": {},
     "output_type": "execute_result"
    }
   ],
   "source": [
    "# словарь для SVD++\n",
    "svdpp_param_grid2 = {'n_factors':[1], 'n_epochs':[50, 100], 'reg_all':[0.05, 0.1]}\n",
    "svdpp_gs_model2 = GridSearchCV(SVDpp, param_grid=svdpp_param_grid2, cv=3, joblib_verbose=5, n_jobs=-2, measures=['RMSE'])\n",
    "\n",
    "svdpp_gs_model2.fit(customer_data)\n",
    "\n",
    "svdpp_gs_model2.best_params"
   ]
  },
  {
   "cell_type": "markdown",
   "metadata": {},
   "source": [
    "лучшие параметры для SVD ++ моедли - \n",
    "- n_factors : 1\n",
    "- n_epochs : 100\n",
    "- reg_all : 0.1\n",
    "\n",
    "Протестируем лучшие параметры на тестовых данных"
   ]
  },
  {
   "cell_type": "code",
   "execution_count": 84,
   "metadata": {
    "ExecuteTime": {
     "end_time": "2024-10-13T17:25:29.287452Z",
     "start_time": "2024-10-13T17:25:14.141781Z"
    }
   },
   "outputs": [
    {
     "name": "stdout",
     "output_type": "stream",
     "text": [
      "RMSE: 0.0008\n"
     ]
    },
    {
     "data": {
      "text/plain": [
       "0.000847912933913345"
      ]
     },
     "execution_count": 84,
     "metadata": {},
     "output_type": "execute_result"
    }
   ],
   "source": [
    "# тест\n",
    "SVDpp_model2 = SVDpp(n_factors=1, n_epochs=100, reg_all=0.1)\n",
    "SVDpp_model2.fit(trainset)\n",
    "SVDpp_predictions2 = SVDpp_model2.test(testset)\n",
    "svdpp_tuned_predictions = accuracy.rmse(SVDpp_predictions2)\n",
    "\n",
    "pickle.dump(nmf_model2, open('Model/collaborative_model_svdpp.sav', 'wb'))\n",
    "svdpp_tuned_predictions"
   ]
  },
  {
   "cell_type": "markdown",
   "metadata": {},
   "source": [
    "## Производительность модели"
   ]
  },
  {
   "cell_type": "code",
   "execution_count": 85,
   "metadata": {
    "ExecuteTime": {
     "end_time": "2024-10-13T17:25:29.293537Z",
     "start_time": "2024-10-13T17:25:29.289659Z"
    }
   },
   "outputs": [],
   "source": [
    "baseline_only = 0.00\n",
    "svd_simple_predictions = 0.0463\n",
    "svd_tuned_predictions = 0.0115\n",
    "nmf_simple_predictions = 0.0676\n",
    "nmf_tuned_predictions = 0.0582\n",
    "svdpp_simple_predictions = 0.0206\n",
    "svdpp_tuned_predictions = 0.0207"
   ]
  },
  {
   "cell_type": "code",
   "execution_count": 86,
   "metadata": {
    "ExecuteTime": {
     "end_time": "2024-10-13T17:25:29.298308Z",
     "start_time": "2024-10-13T17:25:29.295237Z"
    }
   },
   "outputs": [],
   "source": [
    "X = ['Baseline', 'SVD Basic', 'SVD Tuned', 'NMF Basic', 'NMF tuned', 'SVD ++ Basic', 'SVD ++ Tuned']\n",
    "y = [baseline_only, svd_simple_predictions, svd_tuned_predictions, nmf_simple_predictions, nmf_tuned_predictions, svdpp_simple_predictions, svdpp_tuned_predictions]"
   ]
  },
  {
   "cell_type": "code",
   "execution_count": 87,
   "metadata": {
    "ExecuteTime": {
     "end_time": "2024-10-13T17:25:30.117801Z",
     "start_time": "2024-10-13T17:25:29.302332Z"
    }
   },
   "outputs": [
    {
     "data": {
      "image/png": "[encoded data removed]",
      "text/plain": [
       "<Figure size 640x480 with 1 Axes>"
      ]
     },
     "metadata": {},
     "output_type": "display_data"
    }
   ],
   "source": [
    "fig, ax = plt.subplots()\n",
    "plt.bar(X, y, color=['black', 'green', 'blue', 'blue', 'blue', 'blue', 'blue'])\n",
    "plt.xticks(rotation=90)\n",
    "plt.ylim(0, .075)\n",
    "plt.grid(False)\n",
    "ax.set_title(\"Surprise Models\")\n",
    "plt.ylabel('Root Mean Squared Error (RMSE)')\n",
    "plt.savefig('Images/Model_bar.png', dpi=500, bbox_inches='tight');"
   ]
  },
  {
   "cell_type": "markdown",
   "metadata": {},
   "source": [
    "# Функция рекомендаций"
   ]
  },
  {
   "cell_type": "markdown",
   "metadata": {},
   "source": [
    "### сборка"
   ]
  },
  {
   "cell_type": "markdown",
   "metadata": {},
   "source": [
    "##### финальная модель"
   ]
  },
  {
   "cell_type": "code",
   "execution_count": 88,
   "metadata": {
    "ExecuteTime": {
     "end_time": "2024-10-13T17:25:30.467075Z",
     "start_time": "2024-10-13T17:25:30.118844Z"
    }
   },
   "outputs": [],
   "source": [
    "trainset_full = customer_data.build_full_trainset()"
   ]
  },
  {
   "cell_type": "code",
   "execution_count": 89,
   "metadata": {
    "ExecuteTime": {
     "end_time": "2024-10-13T17:27:36.585487Z",
     "start_time": "2024-10-13T17:27:33.097052Z"
    }
   },
   "outputs": [
    {
     "data": {
      "text/plain": [
       "<surprise.prediction_algorithms.matrix_factorization.SVD at 0x35152e7f0>"
      ]
     },
     "execution_count": 89,
     "metadata": {},
     "output_type": "execute_result"
    }
   ],
   "source": [
    "final_model = SVD(n_factors= 10, n_epochs= 50)\n",
    "final_model.fit(trainset_full)"
   ]
  },
  {
   "cell_type": "code",
   "execution_count": 90,
   "metadata": {
    "ExecuteTime": {
     "end_time": "2024-10-13T17:27:38.972517Z",
     "start_time": "2024-10-13T17:27:38.334174Z"
    }
   },
   "outputs": [],
   "source": [
    "pickle.dump(final_model, open('Model/collaborative_model_svd.sav', 'wb'))"
   ]
  },
  {
   "cell_type": "code",
   "execution_count": 91,
   "metadata": {
    "ExecuteTime": {
     "end_time": "2024-10-13T17:27:49.499425Z",
     "start_time": "2024-10-13T17:27:48.109982Z"
    }
   },
   "outputs": [],
   "source": [
    "collab_model = pickle.load(open('Model/collaborative_model_svd.sav', 'rb'))"
   ]
  },
  {
   "cell_type": "code",
   "execution_count": 92,
   "metadata": {
    "ExecuteTime": {
     "end_time": "2024-10-13T17:27:50.303652Z",
     "start_time": "2024-10-13T17:27:50.295941Z"
    }
   },
   "outputs": [
    {
     "data": {
      "text/html": [
       "<div>\n",
       "<style scoped>\n",
       "    .dataframe tbody tr th:only-of-type {\n",
       "        vertical-align: middle;\n",
       "    }\n",
       "\n",
       "    .dataframe tbody tr th {\n",
       "        vertical-align: top;\n",
       "    }\n",
       "\n",
       "    .dataframe thead th {\n",
       "        text-align: right;\n",
       "    }\n",
       "</style>\n",
       "<table border=\"1\" class=\"dataframe\">\n",
       "  <thead>\n",
       "    <tr style=\"text-align: right;\">\n",
       "      <th></th>\n",
       "      <th>InvoiceDate</th>\n",
       "      <th>customer_id</th>\n",
       "      <th>article_id</th>\n",
       "      <th>price</th>\n",
       "      <th>sales_channel_id</th>\n",
       "      <th>t_dat</th>\n",
       "      <th>date</th>\n",
       "      <th>bought</th>\n",
       "    </tr>\n",
       "  </thead>\n",
       "  <tbody>\n",
       "    <tr>\n",
       "      <th>671664</th>\n",
       "      <td>2020-09-22</td>\n",
       "      <td>ff732b98019465f078144bae647d7d9765d76e3431ef92...</td>\n",
       "      <td>651591001</td>\n",
       "      <td>0.032186</td>\n",
       "      <td>2</td>\n",
       "      <td>2020-09-22</td>\n",
       "      <td>2020-09-22</td>\n",
       "      <td>1</td>\n",
       "    </tr>\n",
       "    <tr>\n",
       "      <th>671665</th>\n",
       "      <td>2020-09-22</td>\n",
       "      <td>ff732b98019465f078144bae647d7d9765d76e3431ef92...</td>\n",
       "      <td>864339003</td>\n",
       "      <td>0.022017</td>\n",
       "      <td>2</td>\n",
       "      <td>2020-09-22</td>\n",
       "      <td>2020-09-22</td>\n",
       "      <td>1</td>\n",
       "    </tr>\n",
       "    <tr>\n",
       "      <th>671666</th>\n",
       "      <td>2020-09-22</td>\n",
       "      <td>ff732b98019465f078144bae647d7d9765d76e3431ef92...</td>\n",
       "      <td>938667001</td>\n",
       "      <td>0.010153</td>\n",
       "      <td>2</td>\n",
       "      <td>2020-09-22</td>\n",
       "      <td>2020-09-22</td>\n",
       "      <td>1</td>\n",
       "    </tr>\n",
       "    <tr>\n",
       "      <th>671667</th>\n",
       "      <td>2020-09-22</td>\n",
       "      <td>ffb72741f3bc3d98855703b55d34e05bc7893a5d6a99a3...</td>\n",
       "      <td>762846006</td>\n",
       "      <td>0.025407</td>\n",
       "      <td>2</td>\n",
       "      <td>2020-09-22</td>\n",
       "      <td>2020-09-22</td>\n",
       "      <td>1</td>\n",
       "    </tr>\n",
       "    <tr>\n",
       "      <th>671668</th>\n",
       "      <td>2020-09-22</td>\n",
       "      <td>ffb72741f3bc3d98855703b55d34e05bc7893a5d6a99a3...</td>\n",
       "      <td>762846027</td>\n",
       "      <td>0.025407</td>\n",
       "      <td>2</td>\n",
       "      <td>2020-09-22</td>\n",
       "      <td>2020-09-22</td>\n",
       "      <td>1</td>\n",
       "    </tr>\n",
       "    <tr>\n",
       "      <th>671669</th>\n",
       "      <td>2020-09-22</td>\n",
       "      <td>ffb72741f3bc3d98855703b55d34e05bc7893a5d6a99a3...</td>\n",
       "      <td>914404001</td>\n",
       "      <td>0.042356</td>\n",
       "      <td>2</td>\n",
       "      <td>2020-09-22</td>\n",
       "      <td>2020-09-22</td>\n",
       "      <td>1</td>\n",
       "    </tr>\n",
       "    <tr>\n",
       "      <th>671670</th>\n",
       "      <td>2020-09-22</td>\n",
       "      <td>ffb72741f3bc3d98855703b55d34e05bc7893a5d6a99a3...</td>\n",
       "      <td>751471041</td>\n",
       "      <td>0.033881</td>\n",
       "      <td>2</td>\n",
       "      <td>2020-09-22</td>\n",
       "      <td>2020-09-22</td>\n",
       "      <td>1</td>\n",
       "    </tr>\n",
       "    <tr>\n",
       "      <th>671671</th>\n",
       "      <td>2020-09-22</td>\n",
       "      <td>ffb72741f3bc3d98855703b55d34e05bc7893a5d6a99a3...</td>\n",
       "      <td>751471038</td>\n",
       "      <td>0.033881</td>\n",
       "      <td>2</td>\n",
       "      <td>2020-09-22</td>\n",
       "      <td>2020-09-22</td>\n",
       "      <td>1</td>\n",
       "    </tr>\n",
       "    <tr>\n",
       "      <th>671672</th>\n",
       "      <td>2020-09-22</td>\n",
       "      <td>ffc92c3f7b0b302f393c2968b290f6e5c5b5510d1cf1df...</td>\n",
       "      <td>895730002</td>\n",
       "      <td>0.045746</td>\n",
       "      <td>2</td>\n",
       "      <td>2020-09-22</td>\n",
       "      <td>2020-09-22</td>\n",
       "      <td>1</td>\n",
       "    </tr>\n",
       "    <tr>\n",
       "      <th>671673</th>\n",
       "      <td>2020-09-22</td>\n",
       "      <td>ffc92c3f7b0b302f393c2968b290f6e5c5b5510d1cf1df...</td>\n",
       "      <td>740519002</td>\n",
       "      <td>0.045746</td>\n",
       "      <td>2</td>\n",
       "      <td>2020-09-22</td>\n",
       "      <td>2020-09-22</td>\n",
       "      <td>1</td>\n",
       "    </tr>\n",
       "  </tbody>\n",
       "</table>\n",
       "</div>"
      ],
      "text/plain": [
       "       InvoiceDate                                        customer_id  \\\n",
       "671664  2020-09-22  ff732b98019465f078144bae647d7d9765d76e3431ef92...   \n",
       "671665  2020-09-22  ff732b98019465f078144bae647d7d9765d76e3431ef92...   \n",
       "671666  2020-09-22  ff732b98019465f078144bae647d7d9765d76e3431ef92...   \n",
       "671667  2020-09-22  ffb72741f3bc3d98855703b55d34e05bc7893a5d6a99a3...   \n",
       "671668  2020-09-22  ffb72741f3bc3d98855703b55d34e05bc7893a5d6a99a3...   \n",
       "671669  2020-09-22  ffb72741f3bc3d98855703b55d34e05bc7893a5d6a99a3...   \n",
       "671670  2020-09-22  ffb72741f3bc3d98855703b55d34e05bc7893a5d6a99a3...   \n",
       "671671  2020-09-22  ffb72741f3bc3d98855703b55d34e05bc7893a5d6a99a3...   \n",
       "671672  2020-09-22  ffc92c3f7b0b302f393c2968b290f6e5c5b5510d1cf1df...   \n",
       "671673  2020-09-22  ffc92c3f7b0b302f393c2968b290f6e5c5b5510d1cf1df...   \n",
       "\n",
       "        article_id     price  sales_channel_id       t_dat        date  bought  \n",
       "671664   651591001  0.032186                 2  2020-09-22  2020-09-22       1  \n",
       "671665   864339003  0.022017                 2  2020-09-22  2020-09-22       1  \n",
       "671666   938667001  0.010153                 2  2020-09-22  2020-09-22       1  \n",
       "671667   762846006  0.025407                 2  2020-09-22  2020-09-22       1  \n",
       "671668   762846027  0.025407                 2  2020-09-22  2020-09-22       1  \n",
       "671669   914404001  0.042356                 2  2020-09-22  2020-09-22       1  \n",
       "671670   751471041  0.033881                 2  2020-09-22  2020-09-22       1  \n",
       "671671   751471038  0.033881                 2  2020-09-22  2020-09-22       1  \n",
       "671672   895730002  0.045746                 2  2020-09-22  2020-09-22       1  \n",
       "671673   740519002  0.045746                 2  2020-09-22  2020-09-22       1  "
      ]
     },
     "execution_count": 92,
     "metadata": {},
     "output_type": "execute_result"
    }
   ],
   "source": [
    "transactions.tail(10)"
   ]
  },
  {
   "cell_type": "markdown",
   "metadata": {},
   "source": [
    " - мы должны загрузить сюда df статей в качестве метаданных с article id в качестве индекса "
   ]
  },
  {
   "cell_type": "code",
   "execution_count": 37,
   "metadata": {
    "ExecuteTime": {
     "end_time": "2024-10-13T15:59:48.510805Z",
     "start_time": "2024-10-13T15:59:48.068675Z"
    }
   },
   "outputs": [
    {
     "data": {
      "text/html": [
       "<div>\n",
       "<style scoped>\n",
       "    .dataframe tbody tr th:only-of-type {\n",
       "        vertical-align: middle;\n",
       "    }\n",
       "\n",
       "    .dataframe tbody tr th {\n",
       "        vertical-align: top;\n",
       "    }\n",
       "\n",
       "    .dataframe thead th {\n",
       "        text-align: right;\n",
       "    }\n",
       "</style>\n",
       "<table border=\"1\" class=\"dataframe\">\n",
       "  <thead>\n",
       "    <tr style=\"text-align: right;\">\n",
       "      <th></th>\n",
       "      <th>product_code</th>\n",
       "      <th>prod_name</th>\n",
       "      <th>product_type_no</th>\n",
       "      <th>product_type_name</th>\n",
       "      <th>product_group_name</th>\n",
       "      <th>graphical_appearance_no</th>\n",
       "      <th>graphical_appearance_name</th>\n",
       "      <th>colour_group_code</th>\n",
       "      <th>colour_group_name</th>\n",
       "      <th>perceived_colour_value_id</th>\n",
       "      <th>perceived_colour_value_name</th>\n",
       "      <th>perceived_colour_master_id</th>\n",
       "      <th>perceived_colour_master_name</th>\n",
       "      <th>department_no</th>\n",
       "      <th>department_name</th>\n",
       "      <th>index_code</th>\n",
       "      <th>index_name</th>\n",
       "      <th>index_group_no</th>\n",
       "      <th>index_group_name</th>\n",
       "      <th>section_no</th>\n",
       "      <th>section_name</th>\n",
       "      <th>garment_group_no</th>\n",
       "      <th>garment_group_name</th>\n",
       "      <th>detail_desc</th>\n",
       "    </tr>\n",
       "    <tr>\n",
       "      <th>article_id</th>\n",
       "      <th></th>\n",
       "      <th></th>\n",
       "      <th></th>\n",
       "      <th></th>\n",
       "      <th></th>\n",
       "      <th></th>\n",
       "      <th></th>\n",
       "      <th></th>\n",
       "      <th></th>\n",
       "      <th></th>\n",
       "      <th></th>\n",
       "      <th></th>\n",
       "      <th></th>\n",
       "      <th></th>\n",
       "      <th></th>\n",
       "      <th></th>\n",
       "      <th></th>\n",
       "      <th></th>\n",
       "      <th></th>\n",
       "      <th></th>\n",
       "      <th></th>\n",
       "      <th></th>\n",
       "      <th></th>\n",
       "      <th></th>\n",
       "    </tr>\n",
       "  </thead>\n",
       "  <tbody>\n",
       "    <tr>\n",
       "      <th>108775015</th>\n",
       "      <td>108775</td>\n",
       "      <td>Strap top</td>\n",
       "      <td>253</td>\n",
       "      <td>Vest top</td>\n",
       "      <td>Garment Upper body</td>\n",
       "      <td>1010016</td>\n",
       "      <td>Solid</td>\n",
       "      <td>9</td>\n",
       "      <td>Black</td>\n",
       "      <td>4</td>\n",
       "      <td>Dark</td>\n",
       "      <td>5</td>\n",
       "      <td>Black</td>\n",
       "      <td>1676</td>\n",
       "      <td>Jersey Basic</td>\n",
       "      <td>A</td>\n",
       "      <td>Ladieswear</td>\n",
       "      <td>1</td>\n",
       "      <td>Ladieswear</td>\n",
       "      <td>16</td>\n",
       "      <td>Womens Everyday Basics</td>\n",
       "      <td>1002</td>\n",
       "      <td>Jersey Basic</td>\n",
       "      <td>Jersey top with narrow shoulder straps.</td>\n",
       "    </tr>\n",
       "    <tr>\n",
       "      <th>108775044</th>\n",
       "      <td>108775</td>\n",
       "      <td>Strap top</td>\n",
       "      <td>253</td>\n",
       "      <td>Vest top</td>\n",
       "      <td>Garment Upper body</td>\n",
       "      <td>1010016</td>\n",
       "      <td>Solid</td>\n",
       "      <td>10</td>\n",
       "      <td>White</td>\n",
       "      <td>3</td>\n",
       "      <td>Light</td>\n",
       "      <td>9</td>\n",
       "      <td>White</td>\n",
       "      <td>1676</td>\n",
       "      <td>Jersey Basic</td>\n",
       "      <td>A</td>\n",
       "      <td>Ladieswear</td>\n",
       "      <td>1</td>\n",
       "      <td>Ladieswear</td>\n",
       "      <td>16</td>\n",
       "      <td>Womens Everyday Basics</td>\n",
       "      <td>1002</td>\n",
       "      <td>Jersey Basic</td>\n",
       "      <td>Jersey top with narrow shoulder straps.</td>\n",
       "    </tr>\n",
       "    <tr>\n",
       "      <th>108775051</th>\n",
       "      <td>108775</td>\n",
       "      <td>Strap top (1)</td>\n",
       "      <td>253</td>\n",
       "      <td>Vest top</td>\n",
       "      <td>Garment Upper body</td>\n",
       "      <td>1010017</td>\n",
       "      <td>Stripe</td>\n",
       "      <td>11</td>\n",
       "      <td>Off White</td>\n",
       "      <td>1</td>\n",
       "      <td>Dusty Light</td>\n",
       "      <td>9</td>\n",
       "      <td>White</td>\n",
       "      <td>1676</td>\n",
       "      <td>Jersey Basic</td>\n",
       "      <td>A</td>\n",
       "      <td>Ladieswear</td>\n",
       "      <td>1</td>\n",
       "      <td>Ladieswear</td>\n",
       "      <td>16</td>\n",
       "      <td>Womens Everyday Basics</td>\n",
       "      <td>1002</td>\n",
       "      <td>Jersey Basic</td>\n",
       "      <td>Jersey top with narrow shoulder straps.</td>\n",
       "    </tr>\n",
       "  </tbody>\n",
       "</table>\n",
       "</div>"
      ],
      "text/plain": [
       "            product_code      prod_name  product_type_no product_type_name  \\\n",
       "article_id                                                                   \n",
       "108775015         108775      Strap top              253          Vest top   \n",
       "108775044         108775      Strap top              253          Vest top   \n",
       "108775051         108775  Strap top (1)              253          Vest top   \n",
       "\n",
       "            product_group_name  graphical_appearance_no  \\\n",
       "article_id                                                \n",
       "108775015   Garment Upper body                  1010016   \n",
       "108775044   Garment Upper body                  1010016   \n",
       "108775051   Garment Upper body                  1010017   \n",
       "\n",
       "           graphical_appearance_name  colour_group_code colour_group_name  \\\n",
       "article_id                                                                  \n",
       "108775015                      Solid                  9             Black   \n",
       "108775044                      Solid                 10             White   \n",
       "108775051                     Stripe                 11         Off White   \n",
       "\n",
       "            perceived_colour_value_id perceived_colour_value_name  \\\n",
       "article_id                                                          \n",
       "108775015                           4                        Dark   \n",
       "108775044                           3                       Light   \n",
       "108775051                           1                 Dusty Light   \n",
       "\n",
       "            perceived_colour_master_id perceived_colour_master_name  \\\n",
       "article_id                                                            \n",
       "108775015                            5                        Black   \n",
       "108775044                            9                        White   \n",
       "108775051                            9                        White   \n",
       "\n",
       "            department_no department_name index_code  index_name  \\\n",
       "article_id                                                         \n",
       "108775015            1676    Jersey Basic          A  Ladieswear   \n",
       "108775044            1676    Jersey Basic          A  Ladieswear   \n",
       "108775051            1676    Jersey Basic          A  Ladieswear   \n",
       "\n",
       "            index_group_no index_group_name  section_no  \\\n",
       "article_id                                                \n",
       "108775015                1       Ladieswear          16   \n",
       "108775044                1       Ladieswear          16   \n",
       "108775051                1       Ladieswear          16   \n",
       "\n",
       "                      section_name  garment_group_no garment_group_name  \\\n",
       "article_id                                                                \n",
       "108775015   Womens Everyday Basics              1002       Jersey Basic   \n",
       "108775044   Womens Everyday Basics              1002       Jersey Basic   \n",
       "108775051   Womens Everyday Basics              1002       Jersey Basic   \n",
       "\n",
       "                                        detail_desc  \n",
       "article_id                                           \n",
       "108775015   Jersey top with narrow shoulder straps.  \n",
       "108775044   Jersey top with narrow shoulder straps.  \n",
       "108775051   Jersey top with narrow shoulder straps.  "
      ]
     },
     "execution_count": 37,
     "metadata": {},
     "output_type": "execute_result"
    }
   ],
   "source": [
    "# грузим мета данные \n",
    "meta_articles = pd.read_csv('Data/articles.csv.zip', index_col='article_id')\n",
    "meta_articles.head(3)"
   ]
  },
  {
   "cell_type": "code",
   "execution_count": 38,
   "metadata": {
    "ExecuteTime": {
     "end_time": "2024-10-13T15:59:48.558690Z",
     "start_time": "2024-10-13T15:59:48.512322Z"
    }
   },
   "outputs": [
    {
     "name": "stdout",
     "output_type": "stream",
     "text": [
      "<class 'pandas.core.frame.DataFrame'>\n",
      "Index: 105542 entries, 108775015 to 959461001\n",
      "Data columns (total 24 columns):\n",
      " #   Column                        Non-Null Count   Dtype \n",
      "---  ------                        --------------   ----- \n",
      " 0   product_code                  105542 non-null  int64 \n",
      " 1   prod_name                     105542 non-null  object\n",
      " 2   product_type_no               105542 non-null  int64 \n",
      " 3   product_type_name             105542 non-null  object\n",
      " 4   product_group_name            105542 non-null  object\n",
      " 5   graphical_appearance_no       105542 non-null  int64 \n",
      " 6   graphical_appearance_name     105542 non-null  object\n",
      " 7   colour_group_code             105542 non-null  int64 \n",
      " 8   colour_group_name             105542 non-null  object\n",
      " 9   perceived_colour_value_id     105542 non-null  int64 \n",
      " 10  perceived_colour_value_name   105542 non-null  object\n",
      " 11  perceived_colour_master_id    105542 non-null  int64 \n",
      " 12  perceived_colour_master_name  105542 non-null  object\n",
      " 13  department_no                 105542 non-null  int64 \n",
      " 14  department_name               105542 non-null  object\n",
      " 15  index_code                    105542 non-null  object\n",
      " 16  index_name                    105542 non-null  object\n",
      " 17  index_group_no                105542 non-null  int64 \n",
      " 18  index_group_name              105542 non-null  object\n",
      " 19  section_no                    105542 non-null  int64 \n",
      " 20  section_name                  105542 non-null  object\n",
      " 21  garment_group_no              105542 non-null  int64 \n",
      " 22  garment_group_name            105542 non-null  object\n",
      " 23  detail_desc                   105126 non-null  object\n",
      "dtypes: int64(10), object(14)\n",
      "memory usage: 20.1+ MB\n"
     ]
    }
   ],
   "source": [
    "# проверка данных\n",
    "meta_articles.info()"
   ]
  },
  {
   "cell_type": "code",
   "execution_count": 39,
   "metadata": {
    "ExecuteTime": {
     "end_time": "2024-10-13T15:59:48.563632Z",
     "start_time": "2024-10-13T15:59:48.559413Z"
    }
   },
   "outputs": [
    {
     "data": {
      "text/html": [
       "<div>\n",
       "<style scoped>\n",
       "    .dataframe tbody tr th:only-of-type {\n",
       "        vertical-align: middle;\n",
       "    }\n",
       "\n",
       "    .dataframe tbody tr th {\n",
       "        vertical-align: top;\n",
       "    }\n",
       "\n",
       "    .dataframe thead th {\n",
       "        text-align: right;\n",
       "    }\n",
       "</style>\n",
       "<table border=\"1\" class=\"dataframe\">\n",
       "  <thead>\n",
       "    <tr style=\"text-align: right;\">\n",
       "      <th></th>\n",
       "      <th>InvoiceDate</th>\n",
       "      <th>customer_id</th>\n",
       "      <th>article_id</th>\n",
       "      <th>price</th>\n",
       "      <th>sales_channel_id</th>\n",
       "      <th>t_dat</th>\n",
       "      <th>date</th>\n",
       "      <th>bought</th>\n",
       "    </tr>\n",
       "  </thead>\n",
       "  <tbody>\n",
       "    <tr>\n",
       "      <th>0</th>\n",
       "      <td>2020-09-14</td>\n",
       "      <td>0008968c0d451dbc5a9968da03196fe20051965edde741...</td>\n",
       "      <td>893059004</td>\n",
       "      <td>0.035576</td>\n",
       "      <td>2</td>\n",
       "      <td>2020-09-14</td>\n",
       "      <td>2020-09-14</td>\n",
       "      <td>1</td>\n",
       "    </tr>\n",
       "    <tr>\n",
       "      <th>1</th>\n",
       "      <td>2020-09-03</td>\n",
       "      <td>002611889659ab1051fc3e4e870f2b603c3aaa902ffe6a...</td>\n",
       "      <td>902802002</td>\n",
       "      <td>0.033881</td>\n",
       "      <td>2</td>\n",
       "      <td>2020-09-03</td>\n",
       "      <td>2020-09-03</td>\n",
       "      <td>1</td>\n",
       "    </tr>\n",
       "    <tr>\n",
       "      <th>2</th>\n",
       "      <td>2020-09-03</td>\n",
       "      <td>002611889659ab1051fc3e4e870f2b603c3aaa902ffe6a...</td>\n",
       "      <td>805000007</td>\n",
       "      <td>0.050831</td>\n",
       "      <td>2</td>\n",
       "      <td>2020-09-03</td>\n",
       "      <td>2020-09-03</td>\n",
       "      <td>1</td>\n",
       "    </tr>\n",
       "    <tr>\n",
       "      <th>3</th>\n",
       "      <td>2020-09-03</td>\n",
       "      <td>002611889659ab1051fc3e4e870f2b603c3aaa902ffe6a...</td>\n",
       "      <td>918292001</td>\n",
       "      <td>0.042356</td>\n",
       "      <td>2</td>\n",
       "      <td>2020-09-03</td>\n",
       "      <td>2020-09-03</td>\n",
       "      <td>1</td>\n",
       "    </tr>\n",
       "    <tr>\n",
       "      <th>4</th>\n",
       "      <td>2020-09-03</td>\n",
       "      <td>002611889659ab1051fc3e4e870f2b603c3aaa902ffe6a...</td>\n",
       "      <td>805000001</td>\n",
       "      <td>0.050831</td>\n",
       "      <td>2</td>\n",
       "      <td>2020-09-03</td>\n",
       "      <td>2020-09-03</td>\n",
       "      <td>1</td>\n",
       "    </tr>\n",
       "  </tbody>\n",
       "</table>\n",
       "</div>"
      ],
      "text/plain": [
       "  InvoiceDate                                        customer_id  article_id  \\\n",
       "0  2020-09-14  0008968c0d451dbc5a9968da03196fe20051965edde741...   893059004   \n",
       "1  2020-09-03  002611889659ab1051fc3e4e870f2b603c3aaa902ffe6a...   902802002   \n",
       "2  2020-09-03  002611889659ab1051fc3e4e870f2b603c3aaa902ffe6a...   805000007   \n",
       "3  2020-09-03  002611889659ab1051fc3e4e870f2b603c3aaa902ffe6a...   918292001   \n",
       "4  2020-09-03  002611889659ab1051fc3e4e870f2b603c3aaa902ffe6a...   805000001   \n",
       "\n",
       "      price  sales_channel_id       t_dat        date  bought  \n",
       "0  0.035576                 2  2020-09-14  2020-09-14       1  \n",
       "1  0.033881                 2  2020-09-03  2020-09-03       1  \n",
       "2  0.050831                 2  2020-09-03  2020-09-03       1  \n",
       "3  0.042356                 2  2020-09-03  2020-09-03       1  \n",
       "4  0.050831                 2  2020-09-03  2020-09-03       1  "
      ]
     },
     "execution_count": 39,
     "metadata": {},
     "output_type": "execute_result"
    }
   ],
   "source": [
    "transactions.head()"
   ]
  },
  {
   "cell_type": "code",
   "execution_count": 40,
   "metadata": {
    "ExecuteTime": {
     "end_time": "2024-10-13T15:59:48.597353Z",
     "start_time": "2024-10-13T15:59:48.564261Z"
    }
   },
   "outputs": [
    {
     "data": {
      "text/html": [
       "<div>\n",
       "<style scoped>\n",
       "    .dataframe tbody tr th:only-of-type {\n",
       "        vertical-align: middle;\n",
       "    }\n",
       "\n",
       "    .dataframe tbody tr th {\n",
       "        vertical-align: top;\n",
       "    }\n",
       "\n",
       "    .dataframe thead th {\n",
       "        text-align: right;\n",
       "    }\n",
       "</style>\n",
       "<table border=\"1\" class=\"dataframe\">\n",
       "  <thead>\n",
       "    <tr style=\"text-align: right;\">\n",
       "      <th></th>\n",
       "      <th>article_id</th>\n",
       "    </tr>\n",
       "    <tr>\n",
       "      <th>customer_id</th>\n",
       "      <th></th>\n",
       "    </tr>\n",
       "  </thead>\n",
       "  <tbody>\n",
       "    <tr>\n",
       "      <th>0008968c0d451dbc5a9968da03196fe20051965edde7413775c4eb3be9abe9c2</th>\n",
       "      <td>893059004</td>\n",
       "    </tr>\n",
       "    <tr>\n",
       "      <th>002611889659ab1051fc3e4e870f2b603c3aaa902ffe6ab59e83461c76c879dc</th>\n",
       "      <td>902802002</td>\n",
       "    </tr>\n",
       "    <tr>\n",
       "      <th>002611889659ab1051fc3e4e870f2b603c3aaa902ffe6ab59e83461c76c879dc</th>\n",
       "      <td>805000007</td>\n",
       "    </tr>\n",
       "    <tr>\n",
       "      <th>002611889659ab1051fc3e4e870f2b603c3aaa902ffe6ab59e83461c76c879dc</th>\n",
       "      <td>918292001</td>\n",
       "    </tr>\n",
       "    <tr>\n",
       "      <th>002611889659ab1051fc3e4e870f2b603c3aaa902ffe6ab59e83461c76c879dc</th>\n",
       "      <td>805000001</td>\n",
       "    </tr>\n",
       "  </tbody>\n",
       "</table>\n",
       "</div>"
      ],
      "text/plain": [
       "                                                    article_id\n",
       "customer_id                                                   \n",
       "0008968c0d451dbc5a9968da03196fe20051965edde7413...   893059004\n",
       "002611889659ab1051fc3e4e870f2b603c3aaa902ffe6ab...   902802002\n",
       "002611889659ab1051fc3e4e870f2b603c3aaa902ffe6ab...   805000007\n",
       "002611889659ab1051fc3e4e870f2b603c3aaa902ffe6ab...   918292001\n",
       "002611889659ab1051fc3e4e870f2b603c3aaa902ffe6ab...   805000001"
      ]
     },
     "execution_count": 40,
     "metadata": {},
     "output_type": "execute_result"
    }
   ],
   "source": [
    "# Данные о транзакциях подмножество, чтобы показать только покупателей и артикли, которые они купили\n",
    "df_customer = transactions.set_index('customer_id')\n",
    "df_customer.drop(columns=['InvoiceDate', 'price', 'sales_channel_id', 't_dat', 'date', 'bought'], inplace=True)\n",
    "df_customer.head()"
   ]
  },
  {
   "cell_type": "code",
   "execution_count": 41,
   "metadata": {
    "ExecuteTime": {
     "end_time": "2024-10-13T15:59:49.338881Z",
     "start_time": "2024-10-13T15:59:48.598212Z"
    }
   },
   "outputs": [],
   "source": [
    "\n",
    "df_customer.to_csv('Data/df_customer.csv')"
   ]
  },
  {
   "cell_type": "code",
   "execution_count": 42,
   "metadata": {
    "ExecuteTime": {
     "end_time": "2024-10-13T15:59:49.741247Z",
     "start_time": "2024-10-13T15:59:49.346346Z"
    }
   },
   "outputs": [
    {
     "data": {
      "text/html": [
       "<div>\n",
       "<style scoped>\n",
       "    .dataframe tbody tr th:only-of-type {\n",
       "        vertical-align: middle;\n",
       "    }\n",
       "\n",
       "    .dataframe tbody tr th {\n",
       "        vertical-align: top;\n",
       "    }\n",
       "\n",
       "    .dataframe thead th {\n",
       "        text-align: right;\n",
       "    }\n",
       "</style>\n",
       "<table border=\"1\" class=\"dataframe\">\n",
       "  <thead>\n",
       "    <tr style=\"text-align: right;\">\n",
       "      <th></th>\n",
       "      <th>article_id</th>\n",
       "    </tr>\n",
       "    <tr>\n",
       "      <th>customer_id</th>\n",
       "      <th></th>\n",
       "    </tr>\n",
       "  </thead>\n",
       "  <tbody>\n",
       "    <tr>\n",
       "      <th>0008968c0d451dbc5a9968da03196fe20051965edde7413775c4eb3be9abe9c2</th>\n",
       "      <td>893059004</td>\n",
       "    </tr>\n",
       "    <tr>\n",
       "      <th>002611889659ab1051fc3e4e870f2b603c3aaa902ffe6ab59e83461c76c879dc</th>\n",
       "      <td>902802002</td>\n",
       "    </tr>\n",
       "    <tr>\n",
       "      <th>002611889659ab1051fc3e4e870f2b603c3aaa902ffe6ab59e83461c76c879dc</th>\n",
       "      <td>805000007</td>\n",
       "    </tr>\n",
       "    <tr>\n",
       "      <th>002611889659ab1051fc3e4e870f2b603c3aaa902ffe6ab59e83461c76c879dc</th>\n",
       "      <td>918292001</td>\n",
       "    </tr>\n",
       "    <tr>\n",
       "      <th>002611889659ab1051fc3e4e870f2b603c3aaa902ffe6ab59e83461c76c879dc</th>\n",
       "      <td>805000001</td>\n",
       "    </tr>\n",
       "    <tr>\n",
       "      <th>...</th>\n",
       "      <td>...</td>\n",
       "    </tr>\n",
       "    <tr>\n",
       "      <th>ffb72741f3bc3d98855703b55d34e05bc7893a5d6a99a3758cc7fa0cf65ba441</th>\n",
       "      <td>914404001</td>\n",
       "    </tr>\n",
       "    <tr>\n",
       "      <th>ffb72741f3bc3d98855703b55d34e05bc7893a5d6a99a3758cc7fa0cf65ba441</th>\n",
       "      <td>751471041</td>\n",
       "    </tr>\n",
       "    <tr>\n",
       "      <th>ffb72741f3bc3d98855703b55d34e05bc7893a5d6a99a3758cc7fa0cf65ba441</th>\n",
       "      <td>751471038</td>\n",
       "    </tr>\n",
       "    <tr>\n",
       "      <th>ffc92c3f7b0b302f393c2968b290f6e5c5b5510d1cf1dfd2f8586a5ce3ce8bf4</th>\n",
       "      <td>895730002</td>\n",
       "    </tr>\n",
       "    <tr>\n",
       "      <th>ffc92c3f7b0b302f393c2968b290f6e5c5b5510d1cf1dfd2f8586a5ce3ce8bf4</th>\n",
       "      <td>740519002</td>\n",
       "    </tr>\n",
       "  </tbody>\n",
       "</table>\n",
       "<p>671674 rows × 1 columns</p>\n",
       "</div>"
      ],
      "text/plain": [
       "                                                    article_id\n",
       "customer_id                                                   \n",
       "0008968c0d451dbc5a9968da03196fe20051965edde7413...   893059004\n",
       "002611889659ab1051fc3e4e870f2b603c3aaa902ffe6ab...   902802002\n",
       "002611889659ab1051fc3e4e870f2b603c3aaa902ffe6ab...   805000007\n",
       "002611889659ab1051fc3e4e870f2b603c3aaa902ffe6ab...   918292001\n",
       "002611889659ab1051fc3e4e870f2b603c3aaa902ffe6ab...   805000001\n",
       "...                                                        ...\n",
       "ffb72741f3bc3d98855703b55d34e05bc7893a5d6a99a37...   914404001\n",
       "ffb72741f3bc3d98855703b55d34e05bc7893a5d6a99a37...   751471041\n",
       "ffb72741f3bc3d98855703b55d34e05bc7893a5d6a99a37...   751471038\n",
       "ffc92c3f7b0b302f393c2968b290f6e5c5b5510d1cf1dfd...   895730002\n",
       "ffc92c3f7b0b302f393c2968b290f6e5c5b5510d1cf1dfd...   740519002\n",
       "\n",
       "[671674 rows x 1 columns]"
      ]
     },
     "execution_count": 42,
     "metadata": {},
     "output_type": "execute_result"
    }
   ],
   "source": [
    "pd.read_csv('Data/df_customer.csv', index_col='customer_id')"
   ]
  },
  {
   "cell_type": "code",
   "execution_count": 46,
   "metadata": {
    "ExecuteTime": {
     "end_time": "2024-10-13T16:04:59.173853Z",
     "start_time": "2024-10-13T16:04:59.169894Z"
    }
   },
   "outputs": [],
   "source": [
    "# Двойной ввод уникального идентификатора клиента и количество рекомендаций, которые вы хотите получить\n",
    "customer = '0008968c0d451dbc5a9968da03196fe20051965edde7413775c4eb3be9abe9c2'\n",
    "n_recs = int(10)"
   ]
  },
  {
   "cell_type": "code",
   "execution_count": 49,
   "metadata": {
    "ExecuteTime": {
     "end_time": "2024-10-13T16:08:15.864005Z",
     "start_time": "2024-10-13T16:08:15.840309Z"
    }
   },
   "outputs": [
    {
     "data": {
      "text/plain": [
       "893059004"
      ]
     },
     "execution_count": 49,
     "metadata": {},
     "output_type": "execute_result"
    }
   ],
   "source": [
    "# Создание списка электронных товаров, которые уже оценил данный клиент\n",
    "have_bought = df_customer.loc[customer, 'article_id']\n",
    "have_bought"
   ]
  },
  {
   "cell_type": "code",
   "execution_count": 50,
   "metadata": {
    "ExecuteTime": {
     "end_time": "2024-10-13T16:08:16.876235Z",
     "start_time": "2024-10-13T16:08:16.817014Z"
    }
   },
   "outputs": [
    {
     "data": {
      "text/html": [
       "<div>\n",
       "<style scoped>\n",
       "    .dataframe tbody tr th:only-of-type {\n",
       "        vertical-align: middle;\n",
       "    }\n",
       "\n",
       "    .dataframe tbody tr th {\n",
       "        vertical-align: top;\n",
       "    }\n",
       "\n",
       "    .dataframe thead th {\n",
       "        text-align: right;\n",
       "    }\n",
       "</style>\n",
       "<table border=\"1\" class=\"dataframe\">\n",
       "  <thead>\n",
       "    <tr style=\"text-align: right;\">\n",
       "      <th></th>\n",
       "      <th>article_id</th>\n",
       "      <th>product_code</th>\n",
       "      <th>prod_name</th>\n",
       "      <th>product_type_no</th>\n",
       "      <th>product_type_name</th>\n",
       "      <th>product_group_name</th>\n",
       "      <th>graphical_appearance_no</th>\n",
       "      <th>graphical_appearance_name</th>\n",
       "      <th>colour_group_code</th>\n",
       "      <th>colour_group_name</th>\n",
       "      <th>perceived_colour_value_id</th>\n",
       "      <th>perceived_colour_value_name</th>\n",
       "      <th>perceived_colour_master_id</th>\n",
       "      <th>perceived_colour_master_name</th>\n",
       "      <th>department_no</th>\n",
       "      <th>department_name</th>\n",
       "      <th>index_code</th>\n",
       "      <th>index_name</th>\n",
       "      <th>index_group_no</th>\n",
       "      <th>index_group_name</th>\n",
       "      <th>section_no</th>\n",
       "      <th>section_name</th>\n",
       "      <th>garment_group_no</th>\n",
       "      <th>garment_group_name</th>\n",
       "      <th>detail_desc</th>\n",
       "    </tr>\n",
       "  </thead>\n",
       "  <tbody>\n",
       "    <tr>\n",
       "      <th>0</th>\n",
       "      <td>108775015</td>\n",
       "      <td>108775</td>\n",
       "      <td>Strap top</td>\n",
       "      <td>253</td>\n",
       "      <td>Vest top</td>\n",
       "      <td>Garment Upper body</td>\n",
       "      <td>1010016</td>\n",
       "      <td>Solid</td>\n",
       "      <td>9</td>\n",
       "      <td>Black</td>\n",
       "      <td>4</td>\n",
       "      <td>Dark</td>\n",
       "      <td>5</td>\n",
       "      <td>Black</td>\n",
       "      <td>1676</td>\n",
       "      <td>Jersey Basic</td>\n",
       "      <td>A</td>\n",
       "      <td>Ladieswear</td>\n",
       "      <td>1</td>\n",
       "      <td>Ladieswear</td>\n",
       "      <td>16</td>\n",
       "      <td>Womens Everyday Basics</td>\n",
       "      <td>1002</td>\n",
       "      <td>Jersey Basic</td>\n",
       "      <td>Jersey top with narrow shoulder straps.</td>\n",
       "    </tr>\n",
       "    <tr>\n",
       "      <th>1</th>\n",
       "      <td>108775044</td>\n",
       "      <td>108775</td>\n",
       "      <td>Strap top</td>\n",
       "      <td>253</td>\n",
       "      <td>Vest top</td>\n",
       "      <td>Garment Upper body</td>\n",
       "      <td>1010016</td>\n",
       "      <td>Solid</td>\n",
       "      <td>10</td>\n",
       "      <td>White</td>\n",
       "      <td>3</td>\n",
       "      <td>Light</td>\n",
       "      <td>9</td>\n",
       "      <td>White</td>\n",
       "      <td>1676</td>\n",
       "      <td>Jersey Basic</td>\n",
       "      <td>A</td>\n",
       "      <td>Ladieswear</td>\n",
       "      <td>1</td>\n",
       "      <td>Ladieswear</td>\n",
       "      <td>16</td>\n",
       "      <td>Womens Everyday Basics</td>\n",
       "      <td>1002</td>\n",
       "      <td>Jersey Basic</td>\n",
       "      <td>Jersey top with narrow shoulder straps.</td>\n",
       "    </tr>\n",
       "    <tr>\n",
       "      <th>2</th>\n",
       "      <td>108775051</td>\n",
       "      <td>108775</td>\n",
       "      <td>Strap top (1)</td>\n",
       "      <td>253</td>\n",
       "      <td>Vest top</td>\n",
       "      <td>Garment Upper body</td>\n",
       "      <td>1010017</td>\n",
       "      <td>Stripe</td>\n",
       "      <td>11</td>\n",
       "      <td>Off White</td>\n",
       "      <td>1</td>\n",
       "      <td>Dusty Light</td>\n",
       "      <td>9</td>\n",
       "      <td>White</td>\n",
       "      <td>1676</td>\n",
       "      <td>Jersey Basic</td>\n",
       "      <td>A</td>\n",
       "      <td>Ladieswear</td>\n",
       "      <td>1</td>\n",
       "      <td>Ladieswear</td>\n",
       "      <td>16</td>\n",
       "      <td>Womens Everyday Basics</td>\n",
       "      <td>1002</td>\n",
       "      <td>Jersey Basic</td>\n",
       "      <td>Jersey top with narrow shoulder straps.</td>\n",
       "    </tr>\n",
       "  </tbody>\n",
       "</table>\n",
       "</div>"
      ],
      "text/plain": [
       "   article_id  product_code      prod_name  product_type_no product_type_name  \\\n",
       "0   108775015        108775      Strap top              253          Vest top   \n",
       "1   108775044        108775      Strap top              253          Vest top   \n",
       "2   108775051        108775  Strap top (1)              253          Vest top   \n",
       "\n",
       "   product_group_name  graphical_appearance_no graphical_appearance_name  \\\n",
       "0  Garment Upper body                  1010016                     Solid   \n",
       "1  Garment Upper body                  1010016                     Solid   \n",
       "2  Garment Upper body                  1010017                    Stripe   \n",
       "\n",
       "   colour_group_code colour_group_name  perceived_colour_value_id  \\\n",
       "0                  9             Black                          4   \n",
       "1                 10             White                          3   \n",
       "2                 11         Off White                          1   \n",
       "\n",
       "  perceived_colour_value_name  perceived_colour_master_id  \\\n",
       "0                        Dark                           5   \n",
       "1                       Light                           9   \n",
       "2                 Dusty Light                           9   \n",
       "\n",
       "  perceived_colour_master_name  department_no department_name index_code  \\\n",
       "0                        Black           1676    Jersey Basic          A   \n",
       "1                        White           1676    Jersey Basic          A   \n",
       "2                        White           1676    Jersey Basic          A   \n",
       "\n",
       "   index_name  index_group_no index_group_name  section_no  \\\n",
       "0  Ladieswear               1       Ladieswear          16   \n",
       "1  Ladieswear               1       Ladieswear          16   \n",
       "2  Ladieswear               1       Ladieswear          16   \n",
       "\n",
       "             section_name  garment_group_no garment_group_name  \\\n",
       "0  Womens Everyday Basics              1002       Jersey Basic   \n",
       "1  Womens Everyday Basics              1002       Jersey Basic   \n",
       "2  Womens Everyday Basics              1002       Jersey Basic   \n",
       "\n",
       "                               detail_desc  \n",
       "0  Jersey top with narrow shoulder straps.  \n",
       "1  Jersey top with narrow shoulder straps.  \n",
       "2  Jersey top with narrow shoulder straps.  "
      ]
     },
     "execution_count": 50,
     "metadata": {},
     "output_type": "execute_result"
    }
   ],
   "source": [
    "# Создание нового кадра данных из метаданных для подмножества на основе уже купленных товаров\n",
    "not_bought = meta_articles.copy()\n",
    "# Удаление индексов (article_id), которые соответствуют уже купленным товарам\n",
    "not_bought.drop(have_bought, inplace=True)\n",
    "not_bought.reset_index(inplace=True)\n",
    "not_bought.head(3)"
   ]
  },
  {
   "cell_type": "code",
   "execution_count": 51,
   "metadata": {
    "ExecuteTime": {
     "end_time": "2024-10-13T16:08:19.449103Z",
     "start_time": "2024-10-13T16:08:19.221586Z"
    }
   },
   "outputs": [
    {
     "data": {
      "text/html": [
       "<div>\n",
       "<style scoped>\n",
       "    .dataframe tbody tr th:only-of-type {\n",
       "        vertical-align: middle;\n",
       "    }\n",
       "\n",
       "    .dataframe tbody tr th {\n",
       "        vertical-align: top;\n",
       "    }\n",
       "\n",
       "    .dataframe thead th {\n",
       "        text-align: right;\n",
       "    }\n",
       "</style>\n",
       "<table border=\"1\" class=\"dataframe\">\n",
       "  <thead>\n",
       "    <tr style=\"text-align: right;\">\n",
       "      <th></th>\n",
       "      <th>article_id</th>\n",
       "      <th>product_code</th>\n",
       "      <th>prod_name</th>\n",
       "      <th>product_type_no</th>\n",
       "      <th>product_type_name</th>\n",
       "      <th>product_group_name</th>\n",
       "      <th>graphical_appearance_no</th>\n",
       "      <th>graphical_appearance_name</th>\n",
       "      <th>colour_group_code</th>\n",
       "      <th>colour_group_name</th>\n",
       "      <th>perceived_colour_value_id</th>\n",
       "      <th>perceived_colour_value_name</th>\n",
       "      <th>perceived_colour_master_id</th>\n",
       "      <th>perceived_colour_master_name</th>\n",
       "      <th>department_no</th>\n",
       "      <th>department_name</th>\n",
       "      <th>index_code</th>\n",
       "      <th>index_name</th>\n",
       "      <th>index_group_no</th>\n",
       "      <th>index_group_name</th>\n",
       "      <th>section_no</th>\n",
       "      <th>section_name</th>\n",
       "      <th>garment_group_no</th>\n",
       "      <th>garment_group_name</th>\n",
       "      <th>detail_desc</th>\n",
       "      <th>est_purchase</th>\n",
       "    </tr>\n",
       "  </thead>\n",
       "  <tbody>\n",
       "    <tr>\n",
       "      <th>0</th>\n",
       "      <td>108775015</td>\n",
       "      <td>108775</td>\n",
       "      <td>Strap top</td>\n",
       "      <td>253</td>\n",
       "      <td>Vest top</td>\n",
       "      <td>Garment Upper body</td>\n",
       "      <td>1010016</td>\n",
       "      <td>Solid</td>\n",
       "      <td>9</td>\n",
       "      <td>Black</td>\n",
       "      <td>4</td>\n",
       "      <td>Dark</td>\n",
       "      <td>5</td>\n",
       "      <td>Black</td>\n",
       "      <td>1676</td>\n",
       "      <td>Jersey Basic</td>\n",
       "      <td>A</td>\n",
       "      <td>Ladieswear</td>\n",
       "      <td>1</td>\n",
       "      <td>Ladieswear</td>\n",
       "      <td>16</td>\n",
       "      <td>Womens Everyday Basics</td>\n",
       "      <td>1002</td>\n",
       "      <td>Jersey Basic</td>\n",
       "      <td>Jersey top with narrow shoulder straps.</td>\n",
       "      <td>1.0</td>\n",
       "    </tr>\n",
       "    <tr>\n",
       "      <th>68324</th>\n",
       "      <td>753906003</td>\n",
       "      <td>753906</td>\n",
       "      <td>Cecilia top</td>\n",
       "      <td>255</td>\n",
       "      <td>T-shirt</td>\n",
       "      <td>Garment Upper body</td>\n",
       "      <td>1010016</td>\n",
       "      <td>Solid</td>\n",
       "      <td>13</td>\n",
       "      <td>Beige</td>\n",
       "      <td>2</td>\n",
       "      <td>Medium Dusty</td>\n",
       "      <td>11</td>\n",
       "      <td>Beige</td>\n",
       "      <td>5962</td>\n",
       "      <td>Jersey Fancy DS</td>\n",
       "      <td>D</td>\n",
       "      <td>Divided</td>\n",
       "      <td>2</td>\n",
       "      <td>Divided</td>\n",
       "      <td>58</td>\n",
       "      <td>Divided Selected</td>\n",
       "      <td>1005</td>\n",
       "      <td>Jersey Fancy</td>\n",
       "      <td>Short top in soft, pleated jersey with a sheen...</td>\n",
       "      <td>1.0</td>\n",
       "    </tr>\n",
       "    <tr>\n",
       "      <th>68322</th>\n",
       "      <td>753906001</td>\n",
       "      <td>753906</td>\n",
       "      <td>Cecilia top</td>\n",
       "      <td>255</td>\n",
       "      <td>T-shirt</td>\n",
       "      <td>Garment Upper body</td>\n",
       "      <td>1010016</td>\n",
       "      <td>Solid</td>\n",
       "      <td>42</td>\n",
       "      <td>Red</td>\n",
       "      <td>7</td>\n",
       "      <td>Medium</td>\n",
       "      <td>18</td>\n",
       "      <td>Red</td>\n",
       "      <td>5962</td>\n",
       "      <td>Jersey Fancy DS</td>\n",
       "      <td>D</td>\n",
       "      <td>Divided</td>\n",
       "      <td>2</td>\n",
       "      <td>Divided</td>\n",
       "      <td>58</td>\n",
       "      <td>Divided Selected</td>\n",
       "      <td>1005</td>\n",
       "      <td>Jersey Fancy</td>\n",
       "      <td>Short top in soft, pleated jersey with a sheen...</td>\n",
       "      <td>1.0</td>\n",
       "    </tr>\n",
       "    <tr>\n",
       "      <th>68321</th>\n",
       "      <td>753893001</td>\n",
       "      <td>753893</td>\n",
       "      <td>OC Ross top</td>\n",
       "      <td>258</td>\n",
       "      <td>Blouse</td>\n",
       "      <td>Garment Upper body</td>\n",
       "      <td>1010007</td>\n",
       "      <td>Embroidery</td>\n",
       "      <td>71</td>\n",
       "      <td>Light Blue</td>\n",
       "      <td>3</td>\n",
       "      <td>Light</td>\n",
       "      <td>2</td>\n",
       "      <td>Blue</td>\n",
       "      <td>1545</td>\n",
       "      <td>Projects Woven Tops</td>\n",
       "      <td>D</td>\n",
       "      <td>Divided</td>\n",
       "      <td>2</td>\n",
       "      <td>Divided</td>\n",
       "      <td>50</td>\n",
       "      <td>Divided Projects</td>\n",
       "      <td>1010</td>\n",
       "      <td>Blouses</td>\n",
       "      <td>Short, off-the-shoulder smocked top in a cotto...</td>\n",
       "      <td>1.0</td>\n",
       "    </tr>\n",
       "    <tr>\n",
       "      <th>68320</th>\n",
       "      <td>753884001</td>\n",
       "      <td>753884</td>\n",
       "      <td>SKINNY FIONA RIBBON</td>\n",
       "      <td>272</td>\n",
       "      <td>Trousers</td>\n",
       "      <td>Garment Lower body</td>\n",
       "      <td>1010023</td>\n",
       "      <td>Denim</td>\n",
       "      <td>72</td>\n",
       "      <td>Blue</td>\n",
       "      <td>2</td>\n",
       "      <td>Medium Dusty</td>\n",
       "      <td>2</td>\n",
       "      <td>Blue</td>\n",
       "      <td>8917</td>\n",
       "      <td>Young Girl Denim</td>\n",
       "      <td>I</td>\n",
       "      <td>Children Sizes 134-170</td>\n",
       "      <td>4</td>\n",
       "      <td>Baby/Children</td>\n",
       "      <td>77</td>\n",
       "      <td>Young Girl</td>\n",
       "      <td>1016</td>\n",
       "      <td>Trousers Denim</td>\n",
       "      <td>Slim-fit jeans in washed stretch denim with an...</td>\n",
       "      <td>1.0</td>\n",
       "    </tr>\n",
       "  </tbody>\n",
       "</table>\n",
       "</div>"
      ],
      "text/plain": [
       "       article_id  product_code            prod_name  product_type_no  \\\n",
       "0       108775015        108775            Strap top              253   \n",
       "68324   753906003        753906          Cecilia top              255   \n",
       "68322   753906001        753906          Cecilia top              255   \n",
       "68321   753893001        753893          OC Ross top              258   \n",
       "68320   753884001        753884  SKINNY FIONA RIBBON              272   \n",
       "\n",
       "      product_type_name  product_group_name  graphical_appearance_no  \\\n",
       "0              Vest top  Garment Upper body                  1010016   \n",
       "68324           T-shirt  Garment Upper body                  1010016   \n",
       "68322           T-shirt  Garment Upper body                  1010016   \n",
       "68321            Blouse  Garment Upper body                  1010007   \n",
       "68320          Trousers  Garment Lower body                  1010023   \n",
       "\n",
       "      graphical_appearance_name  colour_group_code colour_group_name  \\\n",
       "0                         Solid                  9             Black   \n",
       "68324                     Solid                 13             Beige   \n",
       "68322                     Solid                 42               Red   \n",
       "68321                Embroidery                 71        Light Blue   \n",
       "68320                     Denim                 72              Blue   \n",
       "\n",
       "       perceived_colour_value_id perceived_colour_value_name  \\\n",
       "0                              4                        Dark   \n",
       "68324                          2                Medium Dusty   \n",
       "68322                          7                      Medium   \n",
       "68321                          3                       Light   \n",
       "68320                          2                Medium Dusty   \n",
       "\n",
       "       perceived_colour_master_id perceived_colour_master_name  department_no  \\\n",
       "0                               5                        Black           1676   \n",
       "68324                          11                        Beige           5962   \n",
       "68322                          18                          Red           5962   \n",
       "68321                           2                         Blue           1545   \n",
       "68320                           2                         Blue           8917   \n",
       "\n",
       "           department_name index_code              index_name  index_group_no  \\\n",
       "0             Jersey Basic          A              Ladieswear               1   \n",
       "68324      Jersey Fancy DS          D                 Divided               2   \n",
       "68322      Jersey Fancy DS          D                 Divided               2   \n",
       "68321  Projects Woven Tops          D                 Divided               2   \n",
       "68320     Young Girl Denim          I  Children Sizes 134-170               4   \n",
       "\n",
       "      index_group_name  section_no            section_name  garment_group_no  \\\n",
       "0           Ladieswear          16  Womens Everyday Basics              1002   \n",
       "68324          Divided          58        Divided Selected              1005   \n",
       "68322          Divided          58        Divided Selected              1005   \n",
       "68321          Divided          50        Divided Projects              1010   \n",
       "68320    Baby/Children          77              Young Girl              1016   \n",
       "\n",
       "      garment_group_name                                        detail_desc  \\\n",
       "0           Jersey Basic            Jersey top with narrow shoulder straps.   \n",
       "68324       Jersey Fancy  Short top in soft, pleated jersey with a sheen...   \n",
       "68322       Jersey Fancy  Short top in soft, pleated jersey with a sheen...   \n",
       "68321            Blouses  Short, off-the-shoulder smocked top in a cotto...   \n",
       "68320     Trousers Denim  Slim-fit jeans in washed stretch denim with an...   \n",
       "\n",
       "       est_purchase  \n",
       "0               1.0  \n",
       "68324           1.0  \n",
       "68322           1.0  \n",
       "68321           1.0  \n",
       "68320           1.0  "
      ]
     },
     "execution_count": 51,
     "metadata": {},
     "output_type": "execute_result"
    }
   ],
   "source": [
    "# Получение прогнозов рейтинга на основе model.predict, передавая пользовательский ввод. \n",
    "# Использование .apply с функцией lamdba для перебора\n",
    "not_bought['est_purchase'] = not_bought['article_id'].apply(lambda x: final_model.predict(customer, x).est)\n",
    "# Сортируем кадр данных на основе только что созданной задачи est_purchase, чтобы вернуть верхние оценки - purcahse\n",
    "not_bought.sort_values(by='est_purchase', ascending=False, inplace=True)\n",
    "not_bought.head()"
   ]
  },
  {
   "cell_type": "code",
   "execution_count": 52,
   "metadata": {
    "ExecuteTime": {
     "end_time": "2024-10-13T16:08:21.499616Z",
     "start_time": "2024-10-13T16:08:21.493827Z"
    }
   },
   "outputs": [
    {
     "data": {
      "text/plain": [
       "28999     0.930432\n",
       "56442     0.929895\n",
       "74386     0.928744\n",
       "76585     0.928719\n",
       "105087    0.925405\n",
       "Name: est_purchase, dtype: float64"
      ]
     },
     "execution_count": 52,
     "metadata": {},
     "output_type": "execute_result"
    }
   ],
   "source": [
    "not_bought['est_purchase'].tail()"
   ]
  },
  {
   "cell_type": "code",
   "execution_count": 53,
   "metadata": {
    "ExecuteTime": {
     "end_time": "2024-10-13T16:08:22.925050Z",
     "start_time": "2024-10-13T16:08:22.922761Z"
    }
   },
   "outputs": [],
   "source": [
    "not_bought.rename(columns={'prod_name':'Product Name', 'author':'Author',\n",
    "                               'product_type_name':'Product Type Name', 'product_group_name':'Product Group Name',\n",
    "                               'index_group_name':'Index Group Name', 'garment_group_name ':'Garment Group Name'}, inplace=True)"
   ]
  },
  {
   "cell_type": "code",
   "execution_count": 54,
   "metadata": {
    "ExecuteTime": {
     "end_time": "2024-10-13T16:08:24.637896Z",
     "start_time": "2024-10-13T16:08:24.626801Z"
    }
   },
   "outputs": [
    {
     "data": {
      "text/html": [
       "<div>\n",
       "<style scoped>\n",
       "    .dataframe tbody tr th:only-of-type {\n",
       "        vertical-align: middle;\n",
       "    }\n",
       "\n",
       "    .dataframe tbody tr th {\n",
       "        vertical-align: top;\n",
       "    }\n",
       "\n",
       "    .dataframe thead th {\n",
       "        text-align: right;\n",
       "    }\n",
       "</style>\n",
       "<table border=\"1\" class=\"dataframe\">\n",
       "  <thead>\n",
       "    <tr style=\"text-align: right;\">\n",
       "      <th></th>\n",
       "      <th>article_id</th>\n",
       "      <th>product_code</th>\n",
       "      <th>Product Name</th>\n",
       "      <th>product_type_no</th>\n",
       "      <th>Product Type Name</th>\n",
       "      <th>Product Group Name</th>\n",
       "      <th>graphical_appearance_no</th>\n",
       "      <th>graphical_appearance_name</th>\n",
       "      <th>colour_group_code</th>\n",
       "      <th>colour_group_name</th>\n",
       "      <th>perceived_colour_value_id</th>\n",
       "      <th>perceived_colour_value_name</th>\n",
       "      <th>perceived_colour_master_id</th>\n",
       "      <th>perceived_colour_master_name</th>\n",
       "      <th>department_no</th>\n",
       "      <th>department_name</th>\n",
       "      <th>index_code</th>\n",
       "      <th>index_name</th>\n",
       "      <th>index_group_no</th>\n",
       "      <th>Index Group Name</th>\n",
       "      <th>section_no</th>\n",
       "      <th>section_name</th>\n",
       "      <th>garment_group_no</th>\n",
       "      <th>garment_group_name</th>\n",
       "      <th>detail_desc</th>\n",
       "      <th>est_purchase</th>\n",
       "    </tr>\n",
       "  </thead>\n",
       "  <tbody>\n",
       "    <tr>\n",
       "      <th>0</th>\n",
       "      <td>108775015</td>\n",
       "      <td>108775</td>\n",
       "      <td>Strap top</td>\n",
       "      <td>253</td>\n",
       "      <td>Vest top</td>\n",
       "      <td>Garment Upper body</td>\n",
       "      <td>1010016</td>\n",
       "      <td>Solid</td>\n",
       "      <td>9</td>\n",
       "      <td>Black</td>\n",
       "      <td>4</td>\n",
       "      <td>Dark</td>\n",
       "      <td>5</td>\n",
       "      <td>Black</td>\n",
       "      <td>1676</td>\n",
       "      <td>Jersey Basic</td>\n",
       "      <td>A</td>\n",
       "      <td>Ladieswear</td>\n",
       "      <td>1</td>\n",
       "      <td>Ladieswear</td>\n",
       "      <td>16</td>\n",
       "      <td>Womens Everyday Basics</td>\n",
       "      <td>1002</td>\n",
       "      <td>Jersey Basic</td>\n",
       "      <td>Jersey top with narrow shoulder straps.</td>\n",
       "      <td>1.0</td>\n",
       "    </tr>\n",
       "    <tr>\n",
       "      <th>68324</th>\n",
       "      <td>753906003</td>\n",
       "      <td>753906</td>\n",
       "      <td>Cecilia top</td>\n",
       "      <td>255</td>\n",
       "      <td>T-shirt</td>\n",
       "      <td>Garment Upper body</td>\n",
       "      <td>1010016</td>\n",
       "      <td>Solid</td>\n",
       "      <td>13</td>\n",
       "      <td>Beige</td>\n",
       "      <td>2</td>\n",
       "      <td>Medium Dusty</td>\n",
       "      <td>11</td>\n",
       "      <td>Beige</td>\n",
       "      <td>5962</td>\n",
       "      <td>Jersey Fancy DS</td>\n",
       "      <td>D</td>\n",
       "      <td>Divided</td>\n",
       "      <td>2</td>\n",
       "      <td>Divided</td>\n",
       "      <td>58</td>\n",
       "      <td>Divided Selected</td>\n",
       "      <td>1005</td>\n",
       "      <td>Jersey Fancy</td>\n",
       "      <td>Short top in soft, pleated jersey with a sheen...</td>\n",
       "      <td>1.0</td>\n",
       "    </tr>\n",
       "    <tr>\n",
       "      <th>68322</th>\n",
       "      <td>753906001</td>\n",
       "      <td>753906</td>\n",
       "      <td>Cecilia top</td>\n",
       "      <td>255</td>\n",
       "      <td>T-shirt</td>\n",
       "      <td>Garment Upper body</td>\n",
       "      <td>1010016</td>\n",
       "      <td>Solid</td>\n",
       "      <td>42</td>\n",
       "      <td>Red</td>\n",
       "      <td>7</td>\n",
       "      <td>Medium</td>\n",
       "      <td>18</td>\n",
       "      <td>Red</td>\n",
       "      <td>5962</td>\n",
       "      <td>Jersey Fancy DS</td>\n",
       "      <td>D</td>\n",
       "      <td>Divided</td>\n",
       "      <td>2</td>\n",
       "      <td>Divided</td>\n",
       "      <td>58</td>\n",
       "      <td>Divided Selected</td>\n",
       "      <td>1005</td>\n",
       "      <td>Jersey Fancy</td>\n",
       "      <td>Short top in soft, pleated jersey with a sheen...</td>\n",
       "      <td>1.0</td>\n",
       "    </tr>\n",
       "    <tr>\n",
       "      <th>68321</th>\n",
       "      <td>753893001</td>\n",
       "      <td>753893</td>\n",
       "      <td>OC Ross top</td>\n",
       "      <td>258</td>\n",
       "      <td>Blouse</td>\n",
       "      <td>Garment Upper body</td>\n",
       "      <td>1010007</td>\n",
       "      <td>Embroidery</td>\n",
       "      <td>71</td>\n",
       "      <td>Light Blue</td>\n",
       "      <td>3</td>\n",
       "      <td>Light</td>\n",
       "      <td>2</td>\n",
       "      <td>Blue</td>\n",
       "      <td>1545</td>\n",
       "      <td>Projects Woven Tops</td>\n",
       "      <td>D</td>\n",
       "      <td>Divided</td>\n",
       "      <td>2</td>\n",
       "      <td>Divided</td>\n",
       "      <td>50</td>\n",
       "      <td>Divided Projects</td>\n",
       "      <td>1010</td>\n",
       "      <td>Blouses</td>\n",
       "      <td>Short, off-the-shoulder smocked top in a cotto...</td>\n",
       "      <td>1.0</td>\n",
       "    </tr>\n",
       "    <tr>\n",
       "      <th>68320</th>\n",
       "      <td>753884001</td>\n",
       "      <td>753884</td>\n",
       "      <td>SKINNY FIONA RIBBON</td>\n",
       "      <td>272</td>\n",
       "      <td>Trousers</td>\n",
       "      <td>Garment Lower body</td>\n",
       "      <td>1010023</td>\n",
       "      <td>Denim</td>\n",
       "      <td>72</td>\n",
       "      <td>Blue</td>\n",
       "      <td>2</td>\n",
       "      <td>Medium Dusty</td>\n",
       "      <td>2</td>\n",
       "      <td>Blue</td>\n",
       "      <td>8917</td>\n",
       "      <td>Young Girl Denim</td>\n",
       "      <td>I</td>\n",
       "      <td>Children Sizes 134-170</td>\n",
       "      <td>4</td>\n",
       "      <td>Baby/Children</td>\n",
       "      <td>77</td>\n",
       "      <td>Young Girl</td>\n",
       "      <td>1016</td>\n",
       "      <td>Trousers Denim</td>\n",
       "      <td>Slim-fit jeans in washed stretch denim with an...</td>\n",
       "      <td>1.0</td>\n",
       "    </tr>\n",
       "    <tr>\n",
       "      <th>68319</th>\n",
       "      <td>753883002</td>\n",
       "      <td>753883</td>\n",
       "      <td>Nia Canvas cap.</td>\n",
       "      <td>69</td>\n",
       "      <td>Cap/peaked</td>\n",
       "      <td>Accessories</td>\n",
       "      <td>1010016</td>\n",
       "      <td>Solid</td>\n",
       "      <td>12</td>\n",
       "      <td>Light Beige</td>\n",
       "      <td>1</td>\n",
       "      <td>Dusty Light</td>\n",
       "      <td>11</td>\n",
       "      <td>Beige</td>\n",
       "      <td>3519</td>\n",
       "      <td>Gloves/Hats</td>\n",
       "      <td>C</td>\n",
       "      <td>Ladies Accessories</td>\n",
       "      <td>1</td>\n",
       "      <td>Ladieswear</td>\n",
       "      <td>65</td>\n",
       "      <td>Womens Big accessories</td>\n",
       "      <td>1019</td>\n",
       "      <td>Accessories</td>\n",
       "      <td>Cap in cotton twill with an adjustable metal f...</td>\n",
       "      <td>1.0</td>\n",
       "    </tr>\n",
       "    <tr>\n",
       "      <th>68318</th>\n",
       "      <td>753883001</td>\n",
       "      <td>753883</td>\n",
       "      <td>Nia Canvas cap.</td>\n",
       "      <td>69</td>\n",
       "      <td>Cap/peaked</td>\n",
       "      <td>Accessories</td>\n",
       "      <td>1010016</td>\n",
       "      <td>Solid</td>\n",
       "      <td>9</td>\n",
       "      <td>Black</td>\n",
       "      <td>4</td>\n",
       "      <td>Dark</td>\n",
       "      <td>5</td>\n",
       "      <td>Black</td>\n",
       "      <td>3519</td>\n",
       "      <td>Gloves/Hats</td>\n",
       "      <td>C</td>\n",
       "      <td>Ladies Accessories</td>\n",
       "      <td>1</td>\n",
       "      <td>Ladieswear</td>\n",
       "      <td>65</td>\n",
       "      <td>Womens Big accessories</td>\n",
       "      <td>1019</td>\n",
       "      <td>Accessories</td>\n",
       "      <td>Cap in cotton twill with an adjustable metal f...</td>\n",
       "      <td>1.0</td>\n",
       "    </tr>\n",
       "    <tr>\n",
       "      <th>68317</th>\n",
       "      <td>753876002</td>\n",
       "      <td>753876</td>\n",
       "      <td>Jogger Cuffed Zip 89</td>\n",
       "      <td>272</td>\n",
       "      <td>Trousers</td>\n",
       "      <td>Garment Lower body</td>\n",
       "      <td>1010023</td>\n",
       "      <td>Denim</td>\n",
       "      <td>9</td>\n",
       "      <td>Black</td>\n",
       "      <td>4</td>\n",
       "      <td>Dark</td>\n",
       "      <td>5</td>\n",
       "      <td>Black</td>\n",
       "      <td>8956</td>\n",
       "      <td>Young Boy Denim</td>\n",
       "      <td>I</td>\n",
       "      <td>Children Sizes 134-170</td>\n",
       "      <td>4</td>\n",
       "      <td>Baby/Children</td>\n",
       "      <td>47</td>\n",
       "      <td>Young Boy</td>\n",
       "      <td>1016</td>\n",
       "      <td>Trousers Denim</td>\n",
       "      <td>Joggers in supersoft, stretch denim with an el...</td>\n",
       "      <td>1.0</td>\n",
       "    </tr>\n",
       "    <tr>\n",
       "      <th>68316</th>\n",
       "      <td>753876001</td>\n",
       "      <td>753876</td>\n",
       "      <td>Jogger Cuffed Zip 89</td>\n",
       "      <td>272</td>\n",
       "      <td>Trousers</td>\n",
       "      <td>Garment Lower body</td>\n",
       "      <td>1010023</td>\n",
       "      <td>Denim</td>\n",
       "      <td>73</td>\n",
       "      <td>Dark Blue</td>\n",
       "      <td>2</td>\n",
       "      <td>Medium Dusty</td>\n",
       "      <td>2</td>\n",
       "      <td>Blue</td>\n",
       "      <td>8956</td>\n",
       "      <td>Young Boy Denim</td>\n",
       "      <td>I</td>\n",
       "      <td>Children Sizes 134-170</td>\n",
       "      <td>4</td>\n",
       "      <td>Baby/Children</td>\n",
       "      <td>47</td>\n",
       "      <td>Young Boy</td>\n",
       "      <td>1016</td>\n",
       "      <td>Trousers Denim</td>\n",
       "      <td>Joggers in supersoft, stretch denim with an el...</td>\n",
       "      <td>1.0</td>\n",
       "    </tr>\n",
       "    <tr>\n",
       "      <th>68315</th>\n",
       "      <td>753866005</td>\n",
       "      <td>753866</td>\n",
       "      <td>LULA HOOD</td>\n",
       "      <td>308</td>\n",
       "      <td>Hoodie</td>\n",
       "      <td>Garment Upper body</td>\n",
       "      <td>1010016</td>\n",
       "      <td>Solid</td>\n",
       "      <td>73</td>\n",
       "      <td>Dark Blue</td>\n",
       "      <td>4</td>\n",
       "      <td>Dark</td>\n",
       "      <td>2</td>\n",
       "      <td>Blue</td>\n",
       "      <td>7930</td>\n",
       "      <td>Young Girl Jersey Basic</td>\n",
       "      <td>I</td>\n",
       "      <td>Children Sizes 134-170</td>\n",
       "      <td>4</td>\n",
       "      <td>Baby/Children</td>\n",
       "      <td>79</td>\n",
       "      <td>Girls Underwear &amp; Basics</td>\n",
       "      <td>1002</td>\n",
       "      <td>Jersey Basic</td>\n",
       "      <td>Jacket in soft sweatshirt fabric with a zip do...</td>\n",
       "      <td>1.0</td>\n",
       "    </tr>\n",
       "  </tbody>\n",
       "</table>\n",
       "</div>"
      ],
      "text/plain": [
       "       article_id  product_code          Product Name  product_type_no  \\\n",
       "0       108775015        108775             Strap top              253   \n",
       "68324   753906003        753906           Cecilia top              255   \n",
       "68322   753906001        753906           Cecilia top              255   \n",
       "68321   753893001        753893           OC Ross top              258   \n",
       "68320   753884001        753884   SKINNY FIONA RIBBON              272   \n",
       "68319   753883002        753883       Nia Canvas cap.               69   \n",
       "68318   753883001        753883       Nia Canvas cap.               69   \n",
       "68317   753876002        753876  Jogger Cuffed Zip 89              272   \n",
       "68316   753876001        753876  Jogger Cuffed Zip 89              272   \n",
       "68315   753866005        753866             LULA HOOD              308   \n",
       "\n",
       "      Product Type Name  Product Group Name  graphical_appearance_no  \\\n",
       "0              Vest top  Garment Upper body                  1010016   \n",
       "68324           T-shirt  Garment Upper body                  1010016   \n",
       "68322           T-shirt  Garment Upper body                  1010016   \n",
       "68321            Blouse  Garment Upper body                  1010007   \n",
       "68320          Trousers  Garment Lower body                  1010023   \n",
       "68319        Cap/peaked         Accessories                  1010016   \n",
       "68318        Cap/peaked         Accessories                  1010016   \n",
       "68317          Trousers  Garment Lower body                  1010023   \n",
       "68316          Trousers  Garment Lower body                  1010023   \n",
       "68315            Hoodie  Garment Upper body                  1010016   \n",
       "\n",
       "      graphical_appearance_name  colour_group_code colour_group_name  \\\n",
       "0                         Solid                  9             Black   \n",
       "68324                     Solid                 13             Beige   \n",
       "68322                     Solid                 42               Red   \n",
       "68321                Embroidery                 71        Light Blue   \n",
       "68320                     Denim                 72              Blue   \n",
       "68319                     Solid                 12       Light Beige   \n",
       "68318                     Solid                  9             Black   \n",
       "68317                     Denim                  9             Black   \n",
       "68316                     Denim                 73         Dark Blue   \n",
       "68315                     Solid                 73         Dark Blue   \n",
       "\n",
       "       perceived_colour_value_id perceived_colour_value_name  \\\n",
       "0                              4                        Dark   \n",
       "68324                          2                Medium Dusty   \n",
       "68322                          7                      Medium   \n",
       "68321                          3                       Light   \n",
       "68320                          2                Medium Dusty   \n",
       "68319                          1                 Dusty Light   \n",
       "68318                          4                        Dark   \n",
       "68317                          4                        Dark   \n",
       "68316                          2                Medium Dusty   \n",
       "68315                          4                        Dark   \n",
       "\n",
       "       perceived_colour_master_id perceived_colour_master_name  department_no  \\\n",
       "0                               5                        Black           1676   \n",
       "68324                          11                        Beige           5962   \n",
       "68322                          18                          Red           5962   \n",
       "68321                           2                         Blue           1545   \n",
       "68320                           2                         Blue           8917   \n",
       "68319                          11                        Beige           3519   \n",
       "68318                           5                        Black           3519   \n",
       "68317                           5                        Black           8956   \n",
       "68316                           2                         Blue           8956   \n",
       "68315                           2                         Blue           7930   \n",
       "\n",
       "               department_name index_code              index_name  \\\n",
       "0                 Jersey Basic          A              Ladieswear   \n",
       "68324          Jersey Fancy DS          D                 Divided   \n",
       "68322          Jersey Fancy DS          D                 Divided   \n",
       "68321      Projects Woven Tops          D                 Divided   \n",
       "68320         Young Girl Denim          I  Children Sizes 134-170   \n",
       "68319              Gloves/Hats          C      Ladies Accessories   \n",
       "68318              Gloves/Hats          C      Ladies Accessories   \n",
       "68317          Young Boy Denim          I  Children Sizes 134-170   \n",
       "68316          Young Boy Denim          I  Children Sizes 134-170   \n",
       "68315  Young Girl Jersey Basic          I  Children Sizes 134-170   \n",
       "\n",
       "       index_group_no Index Group Name  section_no              section_name  \\\n",
       "0                   1       Ladieswear          16    Womens Everyday Basics   \n",
       "68324               2          Divided          58          Divided Selected   \n",
       "68322               2          Divided          58          Divided Selected   \n",
       "68321               2          Divided          50          Divided Projects   \n",
       "68320               4    Baby/Children          77                Young Girl   \n",
       "68319               1       Ladieswear          65    Womens Big accessories   \n",
       "68318               1       Ladieswear          65    Womens Big accessories   \n",
       "68317               4    Baby/Children          47                 Young Boy   \n",
       "68316               4    Baby/Children          47                 Young Boy   \n",
       "68315               4    Baby/Children          79  Girls Underwear & Basics   \n",
       "\n",
       "       garment_group_no garment_group_name  \\\n",
       "0                  1002       Jersey Basic   \n",
       "68324              1005       Jersey Fancy   \n",
       "68322              1005       Jersey Fancy   \n",
       "68321              1010            Blouses   \n",
       "68320              1016     Trousers Denim   \n",
       "68319              1019        Accessories   \n",
       "68318              1019        Accessories   \n",
       "68317              1016     Trousers Denim   \n",
       "68316              1016     Trousers Denim   \n",
       "68315              1002       Jersey Basic   \n",
       "\n",
       "                                             detail_desc  est_purchase  \n",
       "0                Jersey top with narrow shoulder straps.           1.0  \n",
       "68324  Short top in soft, pleated jersey with a sheen...           1.0  \n",
       "68322  Short top in soft, pleated jersey with a sheen...           1.0  \n",
       "68321  Short, off-the-shoulder smocked top in a cotto...           1.0  \n",
       "68320  Slim-fit jeans in washed stretch denim with an...           1.0  \n",
       "68319  Cap in cotton twill with an adjustable metal f...           1.0  \n",
       "68318  Cap in cotton twill with an adjustable metal f...           1.0  \n",
       "68317  Joggers in supersoft, stretch denim with an el...           1.0  \n",
       "68316  Joggers in supersoft, stretch denim with an el...           1.0  \n",
       "68315  Jacket in soft sweatshirt fabric with a zip do...           1.0  "
      ]
     },
     "execution_count": 54,
     "metadata": {},
     "output_type": "execute_result"
    }
   ],
   "source": [
    "not_bought.head(n_recs)"
   ]
  },
  {
   "cell_type": "markdown",
   "metadata": {},
   "source": [
    "## Function"
   ]
  },
  {
   "cell_type": "code",
   "execution_count": 55,
   "metadata": {
    "ExecuteTime": {
     "end_time": "2024-10-13T16:08:33.362654Z",
     "start_time": "2024-10-13T16:08:33.357785Z"
    }
   },
   "outputs": [],
   "source": [
    "def customer_article_recommend():\n",
    "    \n",
    "    user = input('CustomerID: ')\n",
    "    n_recs = int(input('How many recommendations? '))\n",
    "    \n",
    "    have_bought = df_customer.loc[customer, 'article_id']\n",
    "    not_bought = meta_articles.copy()\n",
    "    not_bought.drop(have_bought, inplace=True)\n",
    "    not_bought.reset_index(inplace=True)\n",
    "    not_bought['est_purchase'] = not_bought['article_id'].apply(lambda x: final_model.predict(customer, x).est)\n",
    "    not_bought.sort_values(by='est_purchase', ascending=False, inplace=True)\n",
    "    \n",
    "    not_bought.rename(columns={'prod_name':'Product Name','product_type_name':'Product Type Name', 'product_group_name':'Product Group Name',\n",
    "                               'index_group_name':'Index Group Name', 'garment_group_name':'Garment Group Name'}, inplace=True)\n",
    "    not_bought = not_bought[['article_id','Product Name', 'Product Type Name', 'Product Group Name', 'Index Group Name', 'Garment Group Name']]\n",
    "    not_bought.iloc[:100, :]\n",
    "    not_bought = not_bought.sample(frac=1).reset_index(drop=True)\n",
    "    return not_bought.head(n_recs)"
   ]
  },
  {
   "cell_type": "markdown",
   "metadata": {},
   "source": [
    "## Модуль оценки"
   ]
  },
  {
   "cell_type": "code",
   "execution_count": 56,
   "metadata": {
    "ExecuteTime": {
     "end_time": "2024-10-13T16:08:39.931235Z",
     "start_time": "2024-10-13T16:08:35.548302Z"
    }
   },
   "outputs": [
    {
     "data": {
      "text/html": [
       "<div>\n",
       "<style scoped>\n",
       "    .dataframe tbody tr th:only-of-type {\n",
       "        vertical-align: middle;\n",
       "    }\n",
       "\n",
       "    .dataframe tbody tr th {\n",
       "        vertical-align: top;\n",
       "    }\n",
       "\n",
       "    .dataframe thead th {\n",
       "        text-align: right;\n",
       "    }\n",
       "</style>\n",
       "<table border=\"1\" class=\"dataframe\">\n",
       "  <thead>\n",
       "    <tr style=\"text-align: right;\">\n",
       "      <th></th>\n",
       "      <th>article_id</th>\n",
       "      <th>Product Name</th>\n",
       "      <th>Product Type Name</th>\n",
       "      <th>Product Group Name</th>\n",
       "      <th>Index Group Name</th>\n",
       "      <th>Garment Group Name</th>\n",
       "    </tr>\n",
       "  </thead>\n",
       "  <tbody>\n",
       "    <tr>\n",
       "      <th>0</th>\n",
       "      <td>732260001</td>\n",
       "      <td>SB Todd bomber TP</td>\n",
       "      <td>Jacket</td>\n",
       "      <td>Garment Upper body</td>\n",
       "      <td>Baby/Children</td>\n",
       "      <td>Outdoor</td>\n",
       "    </tr>\n",
       "    <tr>\n",
       "      <th>1</th>\n",
       "      <td>667491002</td>\n",
       "      <td>Bloom</td>\n",
       "      <td>Shirt</td>\n",
       "      <td>Garment Upper body</td>\n",
       "      <td>Ladieswear</td>\n",
       "      <td>Blouses</td>\n",
       "    </tr>\n",
       "    <tr>\n",
       "      <th>2</th>\n",
       "      <td>814966002</td>\n",
       "      <td>Haily strap tank</td>\n",
       "      <td>Vest top</td>\n",
       "      <td>Garment Upper body</td>\n",
       "      <td>Baby/Children</td>\n",
       "      <td>Jersey Fancy</td>\n",
       "    </tr>\n",
       "    <tr>\n",
       "      <th>3</th>\n",
       "      <td>870695002</td>\n",
       "      <td>AMY beanie</td>\n",
       "      <td>Hat/beanie</td>\n",
       "      <td>Accessories</td>\n",
       "      <td>Baby/Children</td>\n",
       "      <td>Accessories</td>\n",
       "    </tr>\n",
       "    <tr>\n",
       "      <th>4</th>\n",
       "      <td>523557001</td>\n",
       "      <td>W Florida skirt EQ</td>\n",
       "      <td>Skirt</td>\n",
       "      <td>Garment Lower body</td>\n",
       "      <td>Ladieswear</td>\n",
       "      <td>Unknown</td>\n",
       "    </tr>\n",
       "    <tr>\n",
       "      <th>5</th>\n",
       "      <td>754932002</td>\n",
       "      <td>Clark skinny fit blz</td>\n",
       "      <td>Blazer</td>\n",
       "      <td>Garment Upper body</td>\n",
       "      <td>Menswear</td>\n",
       "      <td>Dressed</td>\n",
       "    </tr>\n",
       "    <tr>\n",
       "      <th>6</th>\n",
       "      <td>669091032</td>\n",
       "      <td>ROBIN HOOD.</td>\n",
       "      <td>Hoodie</td>\n",
       "      <td>Garment Upper body</td>\n",
       "      <td>Menswear</td>\n",
       "      <td>Jersey Basic</td>\n",
       "    </tr>\n",
       "    <tr>\n",
       "      <th>7</th>\n",
       "      <td>565320022</td>\n",
       "      <td>Colette cropped pants</td>\n",
       "      <td>Trousers</td>\n",
       "      <td>Garment Lower body</td>\n",
       "      <td>Baby/Children</td>\n",
       "      <td>Trousers</td>\n",
       "    </tr>\n",
       "    <tr>\n",
       "      <th>8</th>\n",
       "      <td>904965002</td>\n",
       "      <td>SPORT Sargasso HW ankle tights</td>\n",
       "      <td>Leggings/Tights</td>\n",
       "      <td>Garment Lower body</td>\n",
       "      <td>Ladieswear</td>\n",
       "      <td>Jersey Fancy</td>\n",
       "    </tr>\n",
       "    <tr>\n",
       "      <th>9</th>\n",
       "      <td>843937004</td>\n",
       "      <td>Tripoli dress</td>\n",
       "      <td>Dress</td>\n",
       "      <td>Garment Full body</td>\n",
       "      <td>Baby/Children</td>\n",
       "      <td>Dresses/Skirts girls</td>\n",
       "    </tr>\n",
       "  </tbody>\n",
       "</table>\n",
       "</div>"
      ],
      "text/plain": [
       "   article_id                    Product Name Product Type Name  \\\n",
       "0   732260001               SB Todd bomber TP            Jacket   \n",
       "1   667491002                           Bloom             Shirt   \n",
       "2   814966002                Haily strap tank          Vest top   \n",
       "3   870695002                      AMY beanie        Hat/beanie   \n",
       "4   523557001              W Florida skirt EQ             Skirt   \n",
       "5   754932002            Clark skinny fit blz            Blazer   \n",
       "6   669091032                     ROBIN HOOD.            Hoodie   \n",
       "7   565320022           Colette cropped pants          Trousers   \n",
       "8   904965002  SPORT Sargasso HW ankle tights   Leggings/Tights   \n",
       "9   843937004                   Tripoli dress             Dress   \n",
       "\n",
       "   Product Group Name Index Group Name    Garment Group Name  \n",
       "0  Garment Upper body    Baby/Children               Outdoor  \n",
       "1  Garment Upper body       Ladieswear               Blouses  \n",
       "2  Garment Upper body    Baby/Children          Jersey Fancy  \n",
       "3         Accessories    Baby/Children           Accessories  \n",
       "4  Garment Lower body       Ladieswear               Unknown  \n",
       "5  Garment Upper body         Menswear               Dressed  \n",
       "6  Garment Upper body         Menswear          Jersey Basic  \n",
       "7  Garment Lower body    Baby/Children              Trousers  \n",
       "8  Garment Lower body       Ladieswear          Jersey Fancy  \n",
       "9   Garment Full body    Baby/Children  Dresses/Skirts girls  "
      ]
     },
     "execution_count": 56,
     "metadata": {},
     "output_type": "execute_result"
    }
   ],
   "source": [
    "example = customer_article_recommend()\n",
    "\n",
    "example"
   ]
  },
  {
   "cell_type": "code",
   "execution_count": null,
   "metadata": {},
   "outputs": [],
   "source": [
    "example.to_csv('Data/example.csv', index=False) "
   ]
  },
  {
   "cell_type": "code",
   "execution_count": null,
   "metadata": {},
   "outputs": [],
   "source": []
  },
  {
   "cell_type": "code",
   "execution_count": null,
   "metadata": {},
   "outputs": [],
   "source": []
  },
  {
   "cell_type": "code",
   "execution_count": null,
   "metadata": {},
   "outputs": [],
   "source": []
  }
 ],
 "metadata": {
  "kernelspec": {
   "display_name": "Python 3 (ipykernel)",
   "language": "python",
   "name": "python3"
  },
  "language_info": {
   "codemirror_mode": {
    "name": "ipython",
    "version": 3
   },
   "file_extension": ".py",
   "mimetype": "text/x-python",
   "name": "python",
   "nbconvert_exporter": "python",
   "pygments_lexer": "ipython3",
   "version": "3.8.2rc2"
  },
  "varInspector": {
   "cols": {
    "lenName": 16,
    "lenType": 16,
    "lenVar": 40
   },
   "kernels_config": {
    "python": {
     "delete_cmd_postfix": "",
     "delete_cmd_prefix": "del ",
     "library": "var_list.py",
     "varRefreshCmd": "print(var_dic_list())"
    },
    "r": {
     "delete_cmd_postfix": ") ",
     "delete_cmd_prefix": "rm(",
     "library": "var_list.r",
     "varRefreshCmd": "cat(var_dic_list()) "
    }
   },
   "types_to_exclude": [
    "module",
    "function",
    "builtin_function_or_method",
    "instance",
    "_Feature"
   ],
   "window_display": false
  }
 },
 "nbformat": 4,
 "nbformat_minor": 4
}
